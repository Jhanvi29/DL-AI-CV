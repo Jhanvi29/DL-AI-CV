{
  "cells": [
    {
      "cell_type": "code",
      "execution_count": null,
      "metadata": {
        "id": "b7iAVh_PfvpD"
      },
      "outputs": [],
      "source": [
        "!wget http://images.cocodataset.org/zips/train2014.zip\n",
        "!wget http://images.cocodataset.org/annotations/annotations_trainval2014.zip\n",
        "!wget http://images.cocodataset.org/zips/val2014.zip"
      ]
    },
    {
      "cell_type": "code",
      "execution_count": null,
      "metadata": {
        "id": "kqbAGkd7f1oj"
      },
      "outputs": [],
      "source": [
        "!unzip annotations_trainval2014.zip\n",
        "!unzip train2014.zip\n",
        "!unzip val2014.zip"
      ]
    },
    {
      "cell_type": "code",
      "execution_count": null,
      "metadata": {
        "id": "y3xpWzawkDuO"
      },
      "outputs": [],
      "source": [
        "from pycocotools.coco import COCO\n",
        "import numpy as np\n",
        "import skimage.io as io\n",
        "import matplotlib.pyplot as plt\n",
        "from PIL import Image\n",
        "import os\n",
        "import glob\n",
        "import cv2\n",
        "import torch\n",
        "from torch.utils.data import Dataset, DataLoader\n",
        "import torchvision.transforms as tvt\n",
        "import torch.nn as nn\n",
        "import torch.nn.functional as F\n",
        "import seaborn as sns"
      ]
    },
    {
      "cell_type": "markdown",
      "metadata": {
        "id": "ah_pRRn9m7Kv"
      },
      "source": [
        "Getting training Images"
      ]
    },
    {
      "cell_type": "code",
      "execution_count": null,
      "metadata": {
        "id": "KOhtMVK5kGpe",
        "colab": {
          "base_uri": "https://localhost:8080/"
        },
        "outputId": "ede642ed-de2a-4616-87e6-0b6630ef01f7"
      },
      "outputs": [
        {
          "output_type": "stream",
          "name": "stdout",
          "text": [
            "loading annotations into memory...\n",
            "Done (t=11.59s)\n",
            "creating index...\n",
            "index created!\n"
          ]
        }
      ],
      "source": [
        "dataType='train2014'\n",
        "annFile='annotations/instances_{}.json'.format(dataType)\n",
        "\n",
        "coco=COCO(annFile)\n",
        "\n",
        "cats = coco.loadCats(coco.getCatIds())"
      ]
    },
    {
      "cell_type": "code",
      "execution_count": null,
      "metadata": {
        "id": "7-3qLS4dlJGF"
      },
      "outputs": [],
      "source": [
        "def makeImage(getFilterClass , count):\n",
        "  catIds = coco.getCatIds(catNms=getFilterClass)\n",
        "  imgIds = coco.getImgIds(catIds=catIds )\n",
        "  img = coco.loadImgs(imgIds[np.random.randint(0,len(imgIds))])[0]\n",
        "  I = 'train2014/{}'.format(img['file_name'])\n",
        "  picture = Image.open(I)\n",
        "  picture\n",
        "\n",
        "  for i in range(0,count):\n",
        "    img = coco.loadImgs(imgIds[i])[0]\n",
        "    I = 'train2014/{}'.format(img['file_name'])\n",
        "    picture = Image.open(I)\n",
        "    im_resized = picture.resize((64, 64), Image.BOX)\n",
        "    if getFilterClass == 'airplane':\n",
        "      path = 'Dataset/Train/Airplane/'\n",
        "      name = img['file_name']\n",
        "      p = os.path.join(path,name)\n",
        "      im_resized = im_resized.save(p)\n",
        "    if getFilterClass == 'bus':\n",
        "      path = 'Dataset/Train/Bus/'\n",
        "      name = img['file_name']\n",
        "      p = os.path.join(path,name)\n",
        "\n",
        "      im_resized = im_resized.save(p)\n",
        "    if getFilterClass == 'cat':\n",
        "      path = 'Dataset/Train/Cat/'\n",
        "      name = img['file_name']\n",
        "      p = os.path.join(path,name)\n",
        "      im_resized = im_resized.save(p)\n",
        "    if getFilterClass == 'dog':\n",
        "      path = 'Dataset/Train/Dog/'\n",
        "      name = img['file_name']\n",
        "      p = os.path.join(path,name)\n",
        "      im_resized = im_resized.save(p)\n",
        "    if getFilterClass == 'pizza':\n",
        "      path = 'Dataset/Train/Pizza/'\n",
        "      name = img['file_name']\n",
        "      p = os.path.join(path,name)\n",
        "      im_resized = im_resized.save(p)\n"
      ]
    },
    {
      "cell_type": "code",
      "execution_count": null,
      "metadata": {
        "id": "HguiT0CGltq9"
      },
      "outputs": [],
      "source": [
        "makeImage('airplane' , 1500)\n",
        "makeImage('bus' , 1500)\n",
        "makeImage('cat' , 1500)\n",
        "makeImage('dog' , 1500)\n",
        "makeImage('pizza' , 1500)"
      ]
    },
    {
      "cell_type": "code",
      "execution_count": null,
      "metadata": {
        "id": "_bY4rQcTk_NC"
      },
      "outputs": [],
      "source": [
        "class CustomDataset_Val(Dataset):\n",
        "  def __init__(self , root):\n",
        "    self.root = root\n",
        "    self.data = []\n",
        "\n",
        "    for images in glob.glob(self.root + \"Val/Dog/*.jpg\"):\n",
        "      self.data.append([images,3])\n",
        "\n",
        "    #for images in glob.glob(self.root + \"Train/Airplane/*.jpg\"):\n",
        "    #  self.data.append([images,0])\n",
        "\n",
        "   # for images in glob.glob(self.root + \"Train/Bus/*.jpg\"):\n",
        "   #   self.data.append([images,1])\n",
        "\n",
        "    for images in glob.glob(self.root + \"Val/Airplane/*.jpg\"):\n",
        "      self.data.append([images,0])\n",
        "\n",
        "    #for images in glob.glob(self.root + \"Train/Cat/*.jpg\"):\n",
        "    #  self.data.append([images,2])\n",
        "\n",
        "    for images in glob.glob(self.root + \"Val/Bus/*.jpg\"):\n",
        "      self.data.append([images,1])\n",
        "\n",
        "    for images in glob.glob(self.root + \"Val/Pizza/*.jpg\"):\n",
        "      self.data.append([images,4])\n",
        "\n",
        "    #for images in glob.glob(self.root + \"Train/Dog/*.jpg\"):\n",
        "    #  self.data.append([images,3])\n",
        "\n",
        "    #for images in glob.glob(self.root + \"Train/Pizza/*.jpg\"):\n",
        "    #  self.data.append([images,4])\n",
        "\n",
        "    for images in glob.glob(self.root + \"Val/Cat/*.jpg\"):\n",
        "      self.data.append([images,2])\n",
        "\n",
        "\n",
        "\n",
        "\n",
        "\n",
        "    #print(self.data)\n",
        "\n",
        "  def __len__(self):\n",
        "    return len(self.data)\n",
        "\n",
        "  def __getitem__(self, index):\n",
        "    path , ans = self.data[index]\n",
        "    #print(path)\n",
        "    #print(ans)\n",
        "\n",
        "    img = Image.open(path).convert('RGB')\n",
        "    #img\n",
        "    tensor_transform = tvt.Compose([\n",
        "    tvt.ToTensor()\n",
        "    ])\n",
        "\n",
        "    img = tensor_transform(img)\n",
        "    return img , ans"
      ]
    },
    {
      "cell_type": "code",
      "source": [
        "class CustomDataset_Train(Dataset):\n",
        "  def __init__(self , root):\n",
        "    self.root = root\n",
        "    self.data = []\n",
        "\n",
        "\n",
        "\n",
        "    for images in glob.glob(self.root + \"Train/Airplane/*.jpg\"):\n",
        "      self.data.append([images,0])\n",
        "\n",
        "    for images in glob.glob(self.root + \"Train/Bus/*.jpg\"):\n",
        "      self.data.append([images,1])\n",
        "\n",
        "\n",
        "\n",
        "\n",
        "    for images in glob.glob(self.root + \"Train/Cat/*.jpg\"):\n",
        "      self.data.append([images,2])\n",
        "\n",
        "\n",
        "\n",
        "\n",
        "\n",
        "    for images in glob.glob(self.root + \"Train/Dog/*.jpg\"):\n",
        "      self.data.append([images,3])\n",
        "\n",
        "    for images in glob.glob(self.root + \"Train/Pizza/*.jpg\"):\n",
        "      self.data.append([images,4])\n",
        "\n",
        "\n",
        "\n",
        "\n",
        "\n",
        "\n",
        "\n",
        "    #print(self.data)\n",
        "\n",
        "  def __len__(self):\n",
        "    return len(self.data)\n",
        "\n",
        "  def __getitem__(self, index):\n",
        "    path , ans = self.data[index]\n",
        "    #print(path)\n",
        "    #print(ans)\n",
        "\n",
        "    img = Image.open(path).convert('RGB')\n",
        "    #img\n",
        "    tensor_transform = tvt.Compose([\n",
        "    tvt.ToTensor()\n",
        "    ])\n",
        "\n",
        "    img = tensor_transform(img)\n",
        "    return img , ans"
      ],
      "metadata": {
        "id": "GQsXn4YNC6rH"
      },
      "execution_count": null,
      "outputs": []
    },
    {
      "cell_type": "markdown",
      "metadata": {
        "id": "sNWHj5wLnAL2"
      },
      "source": [
        "Getting Validation Images"
      ]
    },
    {
      "cell_type": "code",
      "execution_count": null,
      "metadata": {
        "colab": {
          "base_uri": "https://localhost:8080/"
        },
        "id": "T9ZEmrkGnD7L",
        "outputId": "73ae07a1-8aaf-43b8-bace-e288a4762d56"
      },
      "outputs": [
        {
          "output_type": "stream",
          "name": "stdout",
          "text": [
            "loading annotations into memory...\n",
            "Done (t=6.73s)\n",
            "creating index...\n",
            "index created!\n"
          ]
        }
      ],
      "source": [
        "dataType='val2014'\n",
        "annFile='annotations/instances_{}.json'.format(dataType)\n",
        "coco=COCO(annFile)\n",
        "cats = coco.loadCats(coco.getCatIds())\n",
        "\n",
        "\n",
        "def valImage(getFilterClass , count):\n",
        "  catIds = coco.getCatIds(catNms=getFilterClass)\n",
        "  imgIds = coco.getImgIds(catIds=catIds )\n",
        "\n",
        "\n",
        "  for i in range(0,count):\n",
        "    img = coco.loadImgs(imgIds[i])[0]\n",
        "    I = 'val2014/{}'.format(img['file_name'])\n",
        "    picture = Image.open(I)\n",
        "    im_resized = picture.resize((64, 64), Image.BOX)\n",
        "    if getFilterClass == 'airplane':\n",
        "      path = 'Dataset/Val/Airplane/'\n",
        "      name = img['file_name']\n",
        "      p = os.path.join(path,name)\n",
        "      im_resized = im_resized.save(p)\n",
        "    if getFilterClass == 'bus':\n",
        "      path = 'Dataset/Val/Bus/'\n",
        "      name = img['file_name']\n",
        "      p = os.path.join(path,name)\n",
        "\n",
        "      im_resized = im_resized.save(p)\n",
        "    if getFilterClass == 'cat':\n",
        "      path = 'Dataset/Val/Cat/'\n",
        "      name = img['file_name']\n",
        "      p = os.path.join(path,name)\n",
        "      im_resized = im_resized.save(p)\n",
        "    if getFilterClass == 'dog':\n",
        "      path = 'Dataset/Val/Dog/'\n",
        "      name = img['file_name']\n",
        "      p = os.path.join(path,name)\n",
        "      im_resized = im_resized.save(p)\n",
        "    if getFilterClass == 'pizza':\n",
        "      path = 'Dataset/Val/Pizza/'\n",
        "      name = img['file_name']\n",
        "      p = os.path.join(path,name)\n",
        "      im_resized = im_resized.save(p)\n",
        "\n",
        "\n",
        "\n",
        "valImage('airplane' , 500)\n",
        "valImage('bus' , 500)\n",
        "valImage('cat' , 500)\n",
        "valImage('dog' , 500)\n",
        "valImage('pizza' , 500)"
      ]
    },
    {
      "cell_type": "markdown",
      "source": [
        "\n",
        "Another implementation -- Check"
      ],
      "metadata": {
        "id": "phao-6Qx4rIo"
      }
    },
    {
      "cell_type": "code",
      "source": [
        "class patch_Embedding(nn.Module):\n",
        "  def __init__(self, img_size , c , patching , embedding_size = 256):\n",
        "    self.img_size = img_size\n",
        "    self.patching = patching\n",
        "    self.in_channel = c\n",
        "\n",
        "    self.num_patches = (img_size // patching) ** 2\n",
        "\n",
        "    self.make_patch = nn.Conv2d(c, embedding_size , kernel = patching , stride = patching)\n",
        "\n",
        "  def forward(self , x):\n",
        "    output = self.make_patch(x)\n",
        "    output = output.flatten(2)\n",
        "    output = output.transpose(1,2)\n",
        "\n",
        "    return output\n",
        "\n",
        "\n"
      ],
      "metadata": {
        "id": "M3VchScr4qjK"
      },
      "execution_count": null,
      "outputs": []
    },
    {
      "cell_type": "markdown",
      "metadata": {
        "id": "ubFVMowWn-OJ"
      },
      "source": [
        "Transformer block"
      ]
    },
    {
      "cell_type": "markdown",
      "source": [
        "Main Block"
      ],
      "metadata": {
        "id": "5jmNYg6hSPfy"
      }
    },
    {
      "cell_type": "code",
      "source": [
        "class"
      ],
      "metadata": {
        "id": "DKwQvfOiSRoy"
      },
      "execution_count": null,
      "outputs": []
    },
    {
      "cell_type": "code",
      "source": [
        "class MyMSA(nn.Module):\n",
        "    def __init__(self, d, n_heads=2):\n",
        "        super(MyMSA, self).__init__()\n",
        "        self.d = d\n",
        "        self.n_heads = n_heads\n",
        "\n",
        "        assert d % n_heads == 0, f\"Can't divide dimension {d} into {n_heads} heads\"\n",
        "\n",
        "        d_head = int(d / n_heads)\n",
        "        self.q_mappings = nn.ModuleList([nn.Linear(d_head, d_head) for _ in range(self.n_heads)])\n",
        "        self.k_mappings = nn.ModuleList([nn.Linear(d_head, d_head) for _ in range(self.n_heads)])\n",
        "        self.v_mappings = nn.ModuleList([nn.Linear(d_head, d_head) for _ in range(self.n_heads)])\n",
        "        self.d_head = d_head\n",
        "        self.softmax = nn.Softmax(dim=-1)\n",
        "\n",
        "    def forward(self, sequences):\n",
        "        # Sequences has shape (N, seq_length, token_dim)\n",
        "        # We go into shape    (N, seq_length, n_heads, token_dim / n_heads)\n",
        "        # And come back to    (N, seq_length, item_dim)  (through concatenation)\n",
        "        result = []\n",
        "        for sequence in sequences:\n",
        "            seq_result = []\n",
        "            for head in range(self.n_heads):\n",
        "                q_mapping = self.q_mappings[head]\n",
        "                k_mapping = self.k_mappings[head]\n",
        "                v_mapping = self.v_mappings[head]\n",
        "\n",
        "                seq = sequence[:, head * self.d_head: (head + 1) * self.d_head]\n",
        "                q, k, v = q_mapping(seq), k_mapping(seq), v_mapping(seq)\n",
        "\n",
        "                attention = self.softmax(q @ k.T / (self.d_head ** 0.5))\n",
        "                seq_result.append(attention @ v)\n",
        "            result.append(torch.hstack(seq_result))\n",
        "        return torch.cat([torch.unsqueeze(r, dim=0) for r in result])\n",
        "\n",
        "\n",
        "class MyViTBlock(nn.Module):\n",
        "    def __init__(self, hidden_d, n_heads, mlp_ratio=4):\n",
        "        super(MyViTBlock, self).__init__()\n",
        "        self.hidden_d = hidden_d\n",
        "        self.n_heads = n_heads\n",
        "\n",
        "        self.norm1 = nn.LayerNorm(hidden_d)\n",
        "        self.mhsa = MyMSA(hidden_d, n_heads)\n",
        "        self.norm2 = nn.LayerNorm(hidden_d)\n",
        "        self.mlp = nn.Sequential(\n",
        "            nn.Linear(hidden_d, mlp_ratio * hidden_d),\n",
        "            nn.GELU(),\n",
        "            nn.Linear(mlp_ratio * hidden_d, hidden_d)\n",
        "        )\n",
        "\n",
        "    def forward(self, x):\n",
        "        out = x + self.mhsa(self.norm1(x))\n",
        "        out = out + self.mlp(self.norm2(out))\n",
        "        return out"
      ],
      "metadata": {
        "id": "g_wUnUkj837v"
      },
      "execution_count": null,
      "outputs": []
    },
    {
      "cell_type": "code",
      "source": [
        "class MyViT(nn.Module):\n",
        "    def __init__(self, chw, n_patches=8, n_blocks=2, hidden_d=8, n_heads=2, out_d=5):\n",
        "        # Super constructor\n",
        "        super(MyViT, self).__init__()\n",
        "\n",
        "        # Attributes\n",
        "        self.chw = chw # ( C , H , W )\n",
        "        self.n_patches = n_patches\n",
        "        self.n_blocks = n_blocks\n",
        "        self.n_heads = n_heads\n",
        "        self.hidden_d = hidden_d\n",
        "\n",
        "        # Input and patches sizes\n",
        "        assert chw[1] % n_patches == 0, \"Input shape not entirely divisible by number of patches\"\n",
        "        assert chw[2] % n_patches == 0, \"Input shape not entirely divisible by number of patches\"\n",
        "        self.patch_size = (chw[1] / n_patches, chw[2] / n_patches)\n",
        "\n",
        "        # 1) Linear mapper\n",
        "        self.input_d = int(chw[0] * self.patch_size[0] * self.patch_size[1])\n",
        "        self.linear_mapper = nn.Linear(self.input_d, self.hidden_d)\n",
        "\n",
        "        # 2) Learnable classification token\n",
        "        self.class_token = nn.Parameter(torch.rand(1, self.hidden_d))\n",
        "\n",
        "        # 3) Positional embedding\n",
        "        self.register_buffer('positional_embeddings', get_positional_embeddings(n_patches ** 2 + 1, hidden_d), persistent=False)\n",
        "\n",
        "        # 4) Transformer encoder blocks\n",
        "        self.blocks = nn.ModuleList([MyViTBlock(hidden_d, n_heads) for _ in range(n_blocks)])\n",
        "\n",
        "        # 5) Classification MLPk\n",
        "        self.mlp = nn.Sequential(\n",
        "            nn.Linear(self.hidden_d, out_d),\n",
        "            nn.Softmax(dim=-1)\n",
        "        )\n",
        "\n",
        "    def forward(self, images):\n",
        "        # Dividing images into patches\n",
        "        n, c, h, w = images.shape\n",
        "        patches = patchify(images, self.n_patches).to(self.positional_embeddings.device)\n",
        "\n",
        "        # Running linear layer tokenization\n",
        "        # Map the vector corresponding to each patch to the hidden size dimension\n",
        "        tokens = self.linear_mapper(patches)\n",
        "\n",
        "        # Adding classification token to the tokens\n",
        "        tokens = torch.cat((self.class_token.expand(n, 1, -1), tokens), dim=1)\n",
        "\n",
        "        # Adding positional embedding\n",
        "        out = tokens + self.positional_embeddings.repeat(n, 1, 1)\n",
        "\n",
        "        # Transformer Blocks\n",
        "        for block in self.blocks:\n",
        "            out = block(out)\n",
        "\n",
        "        # Getting the classification token only\n",
        "        out = out[:, 0]\n",
        "\n",
        "        return self.mlp(out) # Map to output dimension, output category distribution\n",
        "\n",
        "\n",
        "\n",
        "def get_positional_embeddings(sequence_length, d):\n",
        "    result = torch.ones(sequence_length, d)\n",
        "    for i in range(sequence_length):\n",
        "        for j in range(d):\n",
        "            result[i][j] = np.sin(i / (10000 ** (j / d))) if j % 2 == 0 else np.cos(i / (10000 ** ((j - 1) / d)))\n",
        "    return result"
      ],
      "metadata": {
        "id": "ihrlgFE5MCxu"
      },
      "execution_count": null,
      "outputs": []
    },
    {
      "cell_type": "code",
      "source": [
        "dataset = CustomDataset_Train(\"Dataset/\")\n",
        "data_loader = DataLoader(dataset, batch_size=100 , shuffle = True)"
      ],
      "metadata": {
        "id": "_vLz9uYd5sGl"
      },
      "execution_count": null,
      "outputs": []
    },
    {
      "cell_type": "code",
      "source": [
        "import tqdm\n",
        "model = MyViT((3, 64, 64), n_patches=8, n_blocks=2, hidden_d=8, n_heads=2, out_d=5).cuda()\n",
        "N_EPOCHS = 20\n",
        "LR = 0.005\n",
        "\n",
        "    # Training loop\n",
        "optimizer = torch.optim.Adam(model.parameters(), lr=LR)\n",
        "criterion = torch.nn.CrossEntropyLoss()\n",
        "loss_iter_2 = []\n",
        "for epoch in range(N_EPOCHS):\n",
        "  running_loss = 0.0\n",
        "  for i, data in enumerate(data_loader):\n",
        "    inputs , labels = data\n",
        "    inputs = inputs.cuda()\n",
        "    labels = labels.cuda()\n",
        "    optimizer.zero_grad()\n",
        "    outputs = model(inputs)\n",
        "    loss = criterion(outputs , labels)\n",
        "    loss.backward()\n",
        "    optimizer.step()\n",
        "    running_loss += loss.item()\n",
        "    if (i+1) % 10 == 0:\n",
        "      print(\"[epoch: %d, batch: %5d] loss: %.3f\"  % (epoch + 1, i + 1, running_loss / 10))\n",
        "      loss_iter_2.append(running_loss/10)\n",
        "      running_loss = 0.0"
      ],
      "metadata": {
        "colab": {
          "base_uri": "https://localhost:8080/"
        },
        "id": "38Pm-gfh5_9_",
        "outputId": "6f669fe9-2767-482c-8d23-0188bf0b1b53"
      },
      "execution_count": null,
      "outputs": [
        {
          "output_type": "stream",
          "name": "stdout",
          "text": [
            "[epoch: 1, batch:    10] loss: 1.609\n",
            "[epoch: 1, batch:    20] loss: 1.594\n",
            "[epoch: 1, batch:    30] loss: 1.524\n",
            "[epoch: 1, batch:    40] loss: 1.475\n",
            "[epoch: 1, batch:    50] loss: 1.467\n",
            "[epoch: 1, batch:    60] loss: 1.480\n",
            "[epoch: 1, batch:    70] loss: 1.462\n",
            "[epoch: 2, batch:    10] loss: 1.457\n",
            "[epoch: 2, batch:    20] loss: 1.450\n",
            "[epoch: 2, batch:    30] loss: 1.456\n",
            "[epoch: 2, batch:    40] loss: 1.452\n",
            "[epoch: 2, batch:    50] loss: 1.427\n",
            "[epoch: 2, batch:    60] loss: 1.416\n",
            "[epoch: 2, batch:    70] loss: 1.441\n",
            "[epoch: 3, batch:    10] loss: 1.463\n",
            "[epoch: 3, batch:    20] loss: 1.435\n",
            "[epoch: 3, batch:    30] loss: 1.459\n",
            "[epoch: 3, batch:    40] loss: 1.455\n",
            "[epoch: 3, batch:    50] loss: 1.429\n",
            "[epoch: 3, batch:    60] loss: 1.430\n",
            "[epoch: 3, batch:    70] loss: 1.435\n",
            "[epoch: 4, batch:    10] loss: 1.417\n",
            "[epoch: 4, batch:    20] loss: 1.445\n",
            "[epoch: 4, batch:    30] loss: 1.418\n",
            "[epoch: 4, batch:    40] loss: 1.426\n",
            "[epoch: 4, batch:    50] loss: 1.414\n",
            "[epoch: 4, batch:    60] loss: 1.397\n",
            "[epoch: 4, batch:    70] loss: 1.402\n",
            "[epoch: 5, batch:    10] loss: 1.444\n",
            "[epoch: 5, batch:    20] loss: 1.424\n",
            "[epoch: 5, batch:    30] loss: 1.421\n",
            "[epoch: 5, batch:    40] loss: 1.410\n",
            "[epoch: 5, batch:    50] loss: 1.442\n",
            "[epoch: 5, batch:    60] loss: 1.415\n",
            "[epoch: 5, batch:    70] loss: 1.415\n",
            "[epoch: 6, batch:    10] loss: 1.419\n",
            "[epoch: 6, batch:    20] loss: 1.396\n",
            "[epoch: 6, batch:    30] loss: 1.433\n",
            "[epoch: 6, batch:    40] loss: 1.394\n",
            "[epoch: 6, batch:    50] loss: 1.408\n",
            "[epoch: 6, batch:    60] loss: 1.396\n",
            "[epoch: 6, batch:    70] loss: 1.462\n",
            "[epoch: 7, batch:    10] loss: 1.450\n",
            "[epoch: 7, batch:    20] loss: 1.429\n",
            "[epoch: 7, batch:    30] loss: 1.429\n",
            "[epoch: 7, batch:    40] loss: 1.387\n",
            "[epoch: 7, batch:    50] loss: 1.412\n",
            "[epoch: 7, batch:    60] loss: 1.400\n",
            "[epoch: 7, batch:    70] loss: 1.448\n",
            "[epoch: 8, batch:    10] loss: 1.416\n",
            "[epoch: 8, batch:    20] loss: 1.425\n",
            "[epoch: 8, batch:    30] loss: 1.400\n",
            "[epoch: 8, batch:    40] loss: 1.389\n",
            "[epoch: 8, batch:    50] loss: 1.397\n",
            "[epoch: 8, batch:    60] loss: 1.395\n",
            "[epoch: 8, batch:    70] loss: 1.393\n",
            "[epoch: 9, batch:    10] loss: 1.398\n",
            "[epoch: 9, batch:    20] loss: 1.387\n",
            "[epoch: 9, batch:    30] loss: 1.403\n",
            "[epoch: 9, batch:    40] loss: 1.403\n",
            "[epoch: 9, batch:    50] loss: 1.415\n",
            "[epoch: 9, batch:    60] loss: 1.429\n",
            "[epoch: 9, batch:    70] loss: 1.399\n",
            "[epoch: 10, batch:    10] loss: 1.406\n",
            "[epoch: 10, batch:    20] loss: 1.407\n",
            "[epoch: 10, batch:    30] loss: 1.381\n",
            "[epoch: 10, batch:    40] loss: 1.385\n",
            "[epoch: 10, batch:    50] loss: 1.383\n",
            "[epoch: 10, batch:    60] loss: 1.403\n",
            "[epoch: 10, batch:    70] loss: 1.399\n",
            "[epoch: 11, batch:    10] loss: 1.404\n",
            "[epoch: 11, batch:    20] loss: 1.391\n",
            "[epoch: 11, batch:    30] loss: 1.410\n",
            "[epoch: 11, batch:    40] loss: 1.392\n",
            "[epoch: 11, batch:    50] loss: 1.371\n",
            "[epoch: 11, batch:    60] loss: 1.391\n",
            "[epoch: 11, batch:    70] loss: 1.395\n",
            "[epoch: 12, batch:    10] loss: 1.414\n",
            "[epoch: 12, batch:    20] loss: 1.364\n",
            "[epoch: 12, batch:    30] loss: 1.398\n",
            "[epoch: 12, batch:    40] loss: 1.406\n",
            "[epoch: 12, batch:    50] loss: 1.405\n",
            "[epoch: 12, batch:    60] loss: 1.386\n",
            "[epoch: 12, batch:    70] loss: 1.409\n",
            "[epoch: 13, batch:    10] loss: 1.371\n",
            "[epoch: 13, batch:    20] loss: 1.384\n",
            "[epoch: 13, batch:    30] loss: 1.393\n",
            "[epoch: 13, batch:    40] loss: 1.383\n",
            "[epoch: 13, batch:    50] loss: 1.388\n",
            "[epoch: 13, batch:    60] loss: 1.386\n",
            "[epoch: 13, batch:    70] loss: 1.412\n",
            "[epoch: 14, batch:    10] loss: 1.388\n",
            "[epoch: 14, batch:    20] loss: 1.405\n",
            "[epoch: 14, batch:    30] loss: 1.396\n",
            "[epoch: 14, batch:    40] loss: 1.399\n",
            "[epoch: 14, batch:    50] loss: 1.388\n",
            "[epoch: 14, batch:    60] loss: 1.372\n",
            "[epoch: 14, batch:    70] loss: 1.360\n",
            "[epoch: 15, batch:    10] loss: 1.417\n",
            "[epoch: 15, batch:    20] loss: 1.398\n",
            "[epoch: 15, batch:    30] loss: 1.389\n",
            "[epoch: 15, batch:    40] loss: 1.372\n",
            "[epoch: 15, batch:    50] loss: 1.367\n",
            "[epoch: 15, batch:    60] loss: 1.392\n",
            "[epoch: 15, batch:    70] loss: 1.357\n",
            "[epoch: 16, batch:    10] loss: 1.381\n",
            "[epoch: 16, batch:    20] loss: 1.408\n",
            "[epoch: 16, batch:    30] loss: 1.368\n",
            "[epoch: 16, batch:    40] loss: 1.366\n",
            "[epoch: 16, batch:    50] loss: 1.390\n",
            "[epoch: 16, batch:    60] loss: 1.363\n",
            "[epoch: 16, batch:    70] loss: 1.365\n",
            "[epoch: 17, batch:    10] loss: 1.353\n",
            "[epoch: 17, batch:    20] loss: 1.377\n",
            "[epoch: 17, batch:    30] loss: 1.377\n",
            "[epoch: 17, batch:    40] loss: 1.363\n",
            "[epoch: 17, batch:    50] loss: 1.373\n",
            "[epoch: 17, batch:    60] loss: 1.405\n",
            "[epoch: 17, batch:    70] loss: 1.425\n",
            "[epoch: 18, batch:    10] loss: 1.376\n",
            "[epoch: 18, batch:    20] loss: 1.336\n",
            "[epoch: 18, batch:    30] loss: 1.338\n",
            "[epoch: 18, batch:    40] loss: 1.379\n",
            "[epoch: 18, batch:    50] loss: 1.375\n",
            "[epoch: 18, batch:    60] loss: 1.387\n",
            "[epoch: 18, batch:    70] loss: 1.381\n",
            "[epoch: 19, batch:    10] loss: 1.388\n",
            "[epoch: 19, batch:    20] loss: 1.389\n",
            "[epoch: 19, batch:    30] loss: 1.371\n",
            "[epoch: 19, batch:    40] loss: 1.379\n",
            "[epoch: 19, batch:    50] loss: 1.393\n",
            "[epoch: 19, batch:    60] loss: 1.350\n",
            "[epoch: 19, batch:    70] loss: 1.350\n",
            "[epoch: 20, batch:    10] loss: 1.361\n",
            "[epoch: 20, batch:    20] loss: 1.334\n",
            "[epoch: 20, batch:    30] loss: 1.342\n",
            "[epoch: 20, batch:    40] loss: 1.373\n",
            "[epoch: 20, batch:    50] loss: 1.363\n",
            "[epoch: 20, batch:    60] loss: 1.361\n",
            "[epoch: 20, batch:    70] loss: 1.362\n"
          ]
        }
      ]
    },
    {
      "cell_type": "code",
      "source": [
        "plt.plot(loss_iter_2)"
      ],
      "metadata": {
        "colab": {
          "base_uri": "https://localhost:8080/",
          "height": 448
        },
        "id": "pXkSENgn-0DW",
        "outputId": "a9469405-b869-4aaf-8162-240fba3b26bc"
      },
      "execution_count": null,
      "outputs": [
        {
          "output_type": "execute_result",
          "data": {
            "text/plain": [
              "[<matplotlib.lines.Line2D at 0x7ff5c8e76e20>]"
            ]
          },
          "metadata": {},
          "execution_count": 53
        },
        {
          "output_type": "display_data",
          "data": {
            "text/plain": [
              "<Figure size 640x480 with 1 Axes>"
            ],
            "image/png": "[encoded data removed]"
          },
          "metadata": {}
        }
      ]
    },
    {
      "cell_type": "code",
      "source": [
        "dataset = CustomDataset_Val(\"Dataset/\")\n",
        "val_loader = DataLoader(dataset, batch_size=100 , shuffle = True)"
      ],
      "metadata": {
        "id": "z-pt8JHZ-sgT"
      },
      "execution_count": null,
      "outputs": []
    },
    {
      "cell_type": "code",
      "source": [
        "con_matrix = torch.zeros(5, 5)\n",
        "model.eval()\n",
        "for i, data in enumerate(val_loader):\n",
        "  input, label = data\n",
        "  input = input.cuda()\n",
        "  label = label.cuda()\n",
        "  output = model(input)\n",
        "  _, pred = torch.max(output.data , 1)\n",
        "  pred = pred.tolist()\n",
        "  for label,pred in zip(label,pred):\n",
        "    con_matrix[label][pred] += 1"
      ],
      "metadata": {
        "id": "vA_bExHZ-vrJ"
      },
      "execution_count": null,
      "outputs": []
    },
    {
      "cell_type": "code",
      "source": [
        "classes = [\"Airplane\" , \"Bus\" , \"Cat\", \"Dog\", \"Pizza\"]\n",
        "sns.heatmap(con_matrix,annot = True, fmt = \"\" , cmap = \"Blues\" , cbar = False,\n",
        "xticklabels = classes, yticklabels = classes)\n",
        "\n",
        "acc_1  = ((torch.trace(con_matrix))/float(torch.sum(con_matrix))).item()\n",
        "print(acc_1)"
      ],
      "metadata": {
        "colab": {
          "base_uri": "https://localhost:8080/",
          "height": 448
        },
        "id": "rjpblZzh-9Xc",
        "outputId": "fd2144d8-054c-41ed-894b-a19930a60f89"
      },
      "execution_count": null,
      "outputs": [
        {
          "output_type": "stream",
          "name": "stdout",
          "text": [
            "0.5052000284194946\n"
          ]
        },
        {
          "output_type": "display_data",
          "data": {
            "text/plain": [
              "<Figure size 640x480 with 1 Axes>"
            ],
            "image/png": "[encoded data removed]"
          },
          "metadata": {}
        }
      ]
    }
  ],
  "metadata": {
    "colab": {
      "provenance": [],
      "machine_shape": "hm",
      "gpuClass": "premium"
    },
    "kernelspec": {
      "display_name": "Python 3",
      "name": "python3"
    },
    "language_info": {
      "name": "python"
    },
    "accelerator": "GPU",
    "gpuClass": "premium"
  },
  "nbformat": 4,
  "nbformat_minor": 0
}