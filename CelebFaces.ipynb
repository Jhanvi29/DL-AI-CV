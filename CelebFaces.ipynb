{
  "cells": [
    {
      "cell_type": "code",
      "execution_count": null,
      "metadata": {
        "id": "ofQUEq7n4jJJ"
      },
      "outputs": [],
      "source": [
        "import glob\n",
        "import cv2\n",
        "import numpy as np\n",
        "import torch\n",
        "from torch.utils.data import Dataset, DataLoader\n",
        "import torch.nn as nn\n",
        "import os\n",
        "import csv\n",
        "import torch.optim as optim\n",
        "from PIL import Image\n",
        "from torchvision import transforms\n",
        "import csv\n",
        "import torchvision.transforms as T"
      ]
    },
    {
      "cell_type": "code",
      "execution_count": null,
      "metadata": {
        "colab": {
          "base_uri": "https://localhost:8080/"
        },
        "id": "U10fT30mPV1x",
        "outputId": "b12ebcc0-70f8-4800-cb60-f3dcbec4b356"
      },
      "outputs": [
        {
          "name": "stdout",
          "output_type": "stream",
          "text": [
            "Mounted at /content/gdrive\n"
          ]
        }
      ],
      "source": [
        "from google.colab import drive\n",
        "drive.mount('/content/gdrive')"
      ]
    },
    {
      "cell_type": "code",
      "execution_count": null,
      "metadata": {
        "colab": {
          "base_uri": "https://localhost:8080/"
        },
        "id": "9Yhv6ioqIMQM",
        "outputId": "072b6334-08af-4786-f03f-262b569b1597"
      },
      "outputs": [
        {
          "name": "stdout",
          "output_type": "stream",
          "text": [
            "Archive:  train_small.zip\n",
            "  End-of-central-directory signature not found.  Either this file is not\n",
            "  a zipfile, or it constitutes one disk of a multi-part archive.  In the\n",
            "  latter case the central directory and zipfile comment will be found on\n",
            "  the last disk(s) of this archive.\n",
            "unzip:  cannot find zipfile directory in one of train_small.zip or\n",
            "        train_small.zip.zip, and cannot find train_small.zip.ZIP, period.\n"
          ]
        }
      ],
      "source": [
        "!unzip train_small.zip"
      ]
    },
    {
      "cell_type": "code",
      "execution_count": null,
      "metadata": {
        "colab": {
          "base_uri": "https://localhost:8080/"
        },
        "id": "4-lwN02Vn3yp",
        "outputId": "b82c4ad7-a04a-4fdc-f194-fae00c3b5cab"
      },
      "outputs": [
        {
          "name": "stdout",
          "output_type": "stream",
          "text": [
            "Archive:  test.zip\n",
            "  End-of-central-directory signature not found.  Either this file is not\n",
            "  a zipfile, or it constitutes one disk of a multi-part archive.  In the\n",
            "  latter case the central directory and zipfile comment will be found on\n",
            "  the last disk(s) of this archive.\n",
            "unzip:  cannot find zipfile directory in one of test.zip or\n",
            "        test.zip.zip, and cannot find test.zip.ZIP, period.\n"
          ]
        }
      ],
      "source": [
        "!unzip test.zip"
      ]
    },
    {
      "cell_type": "code",
      "execution_count": null,
      "metadata": {
        "colab": {
          "base_uri": "https://localhost:8080/"
        },
        "id": "2IWu4Fe5PgsR",
        "outputId": "57e29a47-edb0-4e02-d07e-4b75bf1f4276"
      },
      "outputs": [
        {
          "name": "stdout",
          "output_type": "stream",
          "text": [
            "unzip:  cannot find or open gdrive/My Drive/train_small.zip, gdrive/My Drive/train_small.zip.zip or gdrive/My Drive/train_small.zip.ZIP.\n"
          ]
        }
      ],
      "source": [
        "!unzip gdrive/My\\ Drive/train_small.zip"
      ]
    },
    {
      "cell_type": "code",
      "execution_count": null,
      "metadata": {
        "id": "8S4-UhiRB6bw"
      },
      "outputs": [],
      "source": [
        "label = []\n",
        "names = []\n",
        "with open('category.csv', 'r') as file:\n",
        "  reader = csv.reader(file)\n",
        "  for row in reader:\n",
        "    names.append(row[1])\n",
        "    label.append(row[0])\n"
      ]
    },
    {
      "cell_type": "code",
      "execution_count": null,
      "metadata": {
        "id": "3mBZ14u_g2r-"
      },
      "outputs": [],
      "source": [
        "del label[0]\n",
        "del names[0]\n"
      ]
    },
    {
      "cell_type": "code",
      "execution_count": null,
      "metadata": {
        "colab": {
          "base_uri": "https://localhost:8080/"
        },
        "id": "q7OPmV84fxoD",
        "outputId": "7d25a4d0-3b68-4c15-8f5c-0bdf915a61db"
      },
      "outputs": [
        {
          "name": "stdout",
          "output_type": "stream",
          "text": [
            "['0', '1', '2', '3', '4', '5', '6', '7', '8', '9', '10', '11', '12', '13', '14', '15', '16', '17', '18', '19', '20', '21', '22', '23', '24', '25', '26', '27', '28', '29', '30', '31', '32', '33', '34', '35', '36', '37', '38', '39', '40', '41', '42', '43', '44', '45', '46', '47', '48', '49', '50', '51', '52', '53', '54', '55', '56', '57', '58', '59', '60', '61', '62', '63', '64', '65', '66', '67', '68', '69', '70', '71', '72', '73', '74', '75', '76', '77', '78', '79', '80', '81', '82', '83', '84', '85', '86', '87', '88', '89', '90', '91', '92', '93', '94', '95', '96', '97', '98', '99']\n",
            "['Art Carney', 'Akemi Darenogare', 'Billy Bob Thornton', 'Bill Daley', 'Amanda Bynes', 'Anna Friel', 'Alexander Skarsgard', 'Anna Faris', 'Bill Pullman', 'Anjelica Huston', 'Angela Bassett', 'Alx James', 'Benjamin Bratt', 'Andy Garcia', 'Bernie Mac', 'Andreea Diaconu', 'Anna Kendrick', 'Anna Sui', 'Barry Pepper', 'Alexis Thorpe', 'Ashley Judd', 'Amy Ryan', 'Analeigh Tipton', 'Anne Hathaway', 'Amanda Peet', 'Amanda Crew', 'Adriana Barraza', 'Ashton Kutcher', 'Ali Larter', 'Arnold Schwarzenegger', 'Amy Adams', 'Berenice Bejo', 'Alessandra Ambrosio', 'Audrey Hepburn', 'Andy Samberg', 'Abigail Breslin', 'Aaron Judge', 'Andrew Luck', 'Bill Murray', 'Anna Paquin', 'Angelina Jolie', 'Barbra Streisand', 'Ashley Graham', 'Anthony Mackie', 'Alec Baldwin', 'Andy Murray', 'Armin Mueller-Stahl', 'Aaron Paul', 'Andrew Lincoln', 'Adrianne Palicki', 'Alice Eve', 'Anne Bancroft', 'Adrien Brody', 'Anne Baxter', 'Benedict Cumberbatch', 'Andie MacDowell', 'Alexandra Daddario', 'Ben Stiller', 'Andrew Garfield', 'Amy Schumer', 'Ben Kingsley', 'Benicio Del Toro', 'bella thorne', 'Ben Foster', 'Andy Serkis', 'Ashley Greene', 'Albert Finney', 'Alan Rickman', 'Bill Rancic', 'Barabara Palvin', 'Ben Affleck', 'Adriana Lima', 'Albert Brooks', 'Bill Paxton', 'Alan Arkin', 'Anthony Hopkins', 'Alex Pettyfer', 'Amber Heard', 'Amanda Seyfried', 'Annette Bening', 'Antonio Banderas', 'Anthony Perkins', 'Alicia Vikander', 'Aaron Taylor-Johnson', 'Al Roker', 'AnnaSophia Robb', 'Anderson Cooper', 'Audrey Tautou', 'Betty White', 'Bella Hadid', 'Adam Sandler', 'Alan Alda', 'Beyonce Knowles', 'Al Pacino', 'Bill O Reilly', 'Bill Hader', 'Ben Johnson', 'Ava Gardner', 'Adele', 'Bette Midler']\n"
          ]
        }
      ],
      "source": [
        "print(label)\n",
        "print(names)"
      ]
    },
    {
      "cell_type": "code",
      "execution_count": null,
      "metadata": {
        "id": "1zYdQtqV5EcV"
      },
      "outputs": [],
      "source": [
        "class CustomDataset(Dataset):\n",
        "    def __init__(self , label , names):\n",
        "        self.imgs_path = \"train.csv\"\n",
        "        self.folder = 'train/'\n",
        "        self.data = []\n",
        "        self.transform = transforms.Compose([\n",
        "            transforms.ToTensor(),\n",
        "            transforms.Resize((224,224)),\n",
        "            #transforms.RandomIoUCrop(),\n",
        "            transforms.RandomHorizontalFlip(),\n",
        "            ])\n",
        "        with open(self.imgs_path , 'r') as file:\n",
        "          reader = csv.reader(file)\n",
        "          for row in reader:\n",
        "            file_name = row[1]\n",
        "            dir = os.path.join(self.folder + file_name)\n",
        "            name = row[2]\n",
        "            if(name != 'Category'):\n",
        "              name_index = names.index(name)\n",
        "              label_category = label[name_index]\n",
        "              #print(label_category)\n",
        "              self.data.append([dir , label_category])\n",
        "\n",
        "\n",
        "    def __len__(self):\n",
        "        return len(self.data)\n",
        "\n",
        "    def __getitem__(self, idx):\n",
        "      image_path , index = self.data[idx]\n",
        "      #print(index)\n",
        "      image = Image.open(image_path)\n",
        "      #jitter = T.ColorJitter(brightness=.5, hue=.3)\n",
        "      #image = jitter(image)\n",
        "      try:\n",
        "        image = image.convert('RGBA')\n",
        "      except:\n",
        "        print(\"didnt convert\")\n",
        "      try:\n",
        "        im_tensor = self.transform(image)\n",
        "      except:\n",
        "        print(\"didnt convert\")\n",
        "      #print(im_tensor)\n",
        "      return im_tensor , int(index)\n",
        "\n",
        "\n"
      ]
    },
    {
      "cell_type": "code",
      "execution_count": null,
      "metadata": {
        "id": "-s0I5UE-EB0M"
      },
      "outputs": [],
      "source": []
    },
    {
      "cell_type": "code",
      "execution_count": null,
      "metadata": {
        "id": "VzS8SfRuItog"
      },
      "outputs": [],
      "source": [
        "dataset = CustomDataset(label,names)\n",
        "train_loader = DataLoader(dataset, batch_size=25, shuffle=True)"
      ]
    },
    {
      "cell_type": "code",
      "execution_count": null,
      "metadata": {
        "colab": {
          "base_uri": "https://localhost:8080/"
        },
        "id": "qtEHCDrQnToH",
        "outputId": "9a23041e-2b16-4291-9c4d-66f0a8c46027"
      },
      "outputs": [
        {
          "data": {
            "text/plain": [
              "69540"
            ]
          },
          "execution_count": 15,
          "metadata": {},
          "output_type": "execute_result"
        }
      ],
      "source": [
        "len(dataset)"
      ]
    },
    {
      "cell_type": "markdown",
      "metadata": {
        "id": "ZilehZieWLAO"
      },
      "source": [
        "Make some model"
      ]
    },
    {
      "cell_type": "code",
      "execution_count": null,
      "metadata": {
        "id": "4XIQWjgoMBUO"
      },
      "outputs": [],
      "source": [
        "class ResidualBlock(nn.Module):\n",
        "    def __init__(self, in_channels, out_channels, stride = 1, downsample = None):\n",
        "        super(ResidualBlock, self).__init__()\n",
        "        self.conv1 = nn.Sequential(\n",
        "                        nn.Conv2d(in_channels, out_channels, kernel_size = 3, stride = stride, padding = 1),\n",
        "                        nn.BatchNorm2d(out_channels),\n",
        "                        nn.ReLU())\n",
        "        self.conv2 = nn.Sequential(\n",
        "                        nn.Conv2d(out_channels, out_channels, kernel_size = 3, stride = 1, padding = 1),\n",
        "                        nn.BatchNorm2d(out_channels))\n",
        "        self.downsample = downsample\n",
        "        self.relu = nn.ReLU()\n",
        "        self.out_channels = out_channels\n",
        "\n",
        "    def forward(self, x):\n",
        "        residual = x\n",
        "        out = self.conv1(x)\n",
        "        out = self.conv2(out)\n",
        "        if self.downsample:\n",
        "            residual = self.downsample(x)\n",
        "        out += residual\n",
        "        out = self.relu(out)\n",
        "        return out"
      ]
    },
    {
      "cell_type": "code",
      "execution_count": null,
      "metadata": {
        "id": "5TZyQ3K9MLPY"
      },
      "outputs": [],
      "source": [
        "class ResNet(nn.Module):\n",
        "    def __init__(self, block, layers, num_classes = 100):\n",
        "        super(ResNet, self).__init__()\n",
        "        self.inplanes = 64\n",
        "        self.conv1 = nn.Sequential(\n",
        "                        nn.Conv2d(4, 64, kernel_size = 7, stride = 2, padding = 3),\n",
        "                        nn.BatchNorm2d(64),\n",
        "                        nn.ReLU())\n",
        "        self.maxpool = nn.MaxPool2d(kernel_size = 3, stride = 2, padding = 1)\n",
        "        self.layer0 = self._make_layer(block, 64, layers[0], stride = 1)\n",
        "        self.layer1 = self._make_layer(block, 128, layers[1], stride = 2)\n",
        "        self.layer2 = self._make_layer(block, 256, layers[2], stride = 2)\n",
        "        self.layer3 = self._make_layer(block, 512, layers[3], stride = 2)\n",
        "        self.avgpool = nn.AvgPool2d(7, stride=1)\n",
        "\n",
        "        self.fc = nn.Linear(512, num_classes)\n",
        "\n",
        "    def _make_layer(self, block, planes, blocks, stride=1):\n",
        "        downsample = None\n",
        "        if stride != 1 or self.inplanes != planes:\n",
        "\n",
        "            downsample = nn.Sequential(\n",
        "                nn.Conv2d(self.inplanes, planes, kernel_size=1, stride=stride),\n",
        "                nn.BatchNorm2d(planes),\n",
        "            )\n",
        "        layers = []\n",
        "        layers.append(block(self.inplanes, planes, stride, downsample))\n",
        "        self.inplanes = planes\n",
        "        for i in range(1, blocks):\n",
        "            layers.append(block(self.inplanes, planes))\n",
        "\n",
        "        return nn.Sequential(*layers)\n",
        "\n",
        "\n",
        "    def forward(self, x):\n",
        "        x = self.conv1(x)\n",
        "        x = self.maxpool(x)\n",
        "        x = self.layer0(x)\n",
        "        x = self.layer1(x)\n",
        "        x = self.layer2(x)\n",
        "        x = self.layer3(x)\n",
        "\n",
        "        x = self.avgpool(x)\n",
        "        x = x.view(x.size(0), -1)\n",
        "        x = self.fc(x)\n",
        "\n",
        "        return x"
      ]
    },
    {
      "cell_type": "code",
      "execution_count": null,
      "metadata": {
        "colab": {
          "base_uri": "https://localhost:8080/"
        },
        "id": "DcRT3VL0Jciz",
        "outputId": "1d07cf6b-dd42-497e-e98e-981f510a4e79"
      },
      "outputs": [
        {
          "name": "stderr",
          "output_type": "stream",
          "text": [
            "/usr/local/lib/python3.9/dist-packages/torchvision/transforms/functional.py:1603: UserWarning: The default value of the antialias parameter of all the resizing transforms (Resize(), RandomResizedCrop(), etc.) will change from None to True in v0.17, in order to be consistent across the PIL and Tensor backends. To suppress this warning, directly pass antialias=True (recommended, future default), antialias=None (current default, which means False for Tensors and True for PIL), or antialias=False (only works on Tensors - PIL will still use antialiasing). This also applies if you are using the inference transforms from the models weights: update the call to weights.transforms(antialias=True).\n",
            "  warnings.warn(\n",
            "/usr/local/lib/python3.9/dist-packages/PIL/TiffImagePlugin.py:819: UserWarning: Truncated File Read\n",
            "  warnings.warn(str(msg))\n"
          ]
        },
        {
          "name": "stdout",
          "output_type": "stream",
          "text": [
            "Epoch [1/30], Loss: 3.8029\n",
            "Epoch [2/30], Loss: 3.7179\n",
            "Epoch [3/30], Loss: 3.6088\n",
            "Epoch [4/30], Loss: 3.1501\n",
            "Epoch [5/30], Loss: 2.5710\n",
            "Epoch [6/30], Loss: 2.2889\n",
            "Epoch [7/30], Loss: 2.0894\n",
            "Epoch [8/30], Loss: 2.3227\n",
            "Epoch [9/30], Loss: 1.2282\n",
            "Epoch [10/30], Loss: 1.7838\n",
            "Epoch [11/30], Loss: 2.2296\n",
            "Epoch [12/30], Loss: 2.0916\n",
            "Epoch [13/30], Loss: 3.0915\n",
            "Epoch [14/30], Loss: 1.4131\n",
            "Epoch [15/30], Loss: 1.5532\n",
            "Epoch [16/30], Loss: 2.3363\n",
            "Epoch [17/30], Loss: 1.6843\n",
            "Epoch [18/30], Loss: 1.5374\n",
            "Epoch [19/30], Loss: 1.6878\n",
            "Epoch [20/30], Loss: 0.9663\n",
            "Epoch [21/30], Loss: 1.4687\n",
            "Epoch [22/30], Loss: 1.5531\n",
            "Epoch [23/30], Loss: 1.2245\n",
            "Epoch [24/30], Loss: 0.7604\n",
            "Epoch [25/30], Loss: 1.4832\n",
            "Epoch [26/30], Loss: 1.9810\n",
            "Epoch [27/30], Loss: 1.3528\n",
            "Epoch [28/30], Loss: 0.4740\n",
            "Epoch [29/30], Loss: 0.8864\n",
            "Epoch [30/30], Loss: 1.3947\n"
          ]
        }
      ],
      "source": [
        "num_classes = 100\n",
        "num_epochs = 30\n",
        "batch_size = 16\n",
        "learning_rate = 0.005\n",
        "\n",
        "model = ResNet(ResidualBlock, [3, 4, 6, 3])\n",
        "model = model.cuda()\n",
        "labeling_loss_tally = []\n",
        "criterion = nn.CrossEntropyLoss()\n",
        "optimizer = torch.optim.SGD(model.parameters(), lr=learning_rate, weight_decay = 0.001, momentum = 0.9)\n",
        "\n",
        "import gc\n",
        "total_step = len(train_loader)\n",
        "\n",
        "for epoch in range(num_epochs):\n",
        "    for i, (images, labels) in enumerate(train_loader):\n",
        "        # Move tensors to the configured device\n",
        "        images = images.cuda()\n",
        "        labels = labels.cuda()\n",
        "\n",
        "        # Forward pass\n",
        "        outputs = model(images)\n",
        "        loss = criterion(outputs, labels)\n",
        "\n",
        "        # Backward and optimize\n",
        "        optimizer.zero_grad()\n",
        "        loss.backward()\n",
        "        optimizer.step()\n",
        "\n",
        "    print ('Epoch [{}/{}], Loss: {:.4f}'\n",
        "                   .format(epoch+1, num_epochs, loss.item()))\n",
        "\n",
        "    # Validation\n",
        " #   with torch.no_grad():\n",
        "  #      correct = 0\n",
        "   #     total = 0\n",
        "    #    for images, labels in train_loader:\n",
        "     #       images = images.cuda()\n",
        "      #      labels = labels.cuda()\n",
        "       #     outputs = model(images)\n",
        "        #    _, predicted = torch.max(outputs.data, 1)\n",
        "        #    total += labels.size(0)\n",
        "         #   correct += (predicted == labels).sum().item()\n",
        "         #   del images, labels, outputs\n",
        "\n",
        "        #print('Accuracy of the network on the {} validation images: {} %'.format(5000, 100 * correct / total))\n",
        "\n",
        "\n"
      ]
    },
    {
      "cell_type": "markdown",
      "metadata": {
        "id": "ZVaMge8TGDSk"
      },
      "source": [
        "Validation"
      ]
    },
    {
      "cell_type": "code",
      "execution_count": null,
      "metadata": {
        "colab": {
          "background_save": true
        },
        "id": "511xfeE55Ckd"
      },
      "outputs": [],
      "source": [
        "correct = 0\n",
        "total = 0\n",
        "model.eval()\n",
        "with torch.no_grad():\n",
        "    for data in train_loader:\n",
        "        images, labels = data\n",
        "        images = images.cuda()\n",
        "        labels = labels.cuda()\n",
        "        outputs = model(images)\n",
        "        _, predicted = torch.max(outputs.data, 1)\n",
        "        total += labels.size(0)\n",
        "        correct += (predicted == labels).sum().item()\n",
        "print('Accuracy on test set: %.2f %%' % (100 * correct / total))"
      ]
    },
    {
      "cell_type": "code",
      "execution_count": null,
      "metadata": {
        "id": "kcJmbrIn3kNU"
      },
      "outputs": [],
      "source": [
        "!unzip test.zip"
      ]
    },
    {
      "cell_type": "code",
      "execution_count": null,
      "metadata": {
        "id": "cAT7sT-H3frM"
      },
      "outputs": [],
      "source": [
        "class CustomDataset(Dataset):\n",
        "    def __init__(self):\n",
        "        #self.imgs_path = \"train.csv\"\n",
        "        self.root = 'test'\n",
        "        self.data = []\n",
        "        self.transform = transforms.Compose([\n",
        "            transforms.ToTensor(),\n",
        "            transforms.Resize((224,224)),\n",
        "            #transforms.RandomIoUCrop(),\n",
        "            transforms.RandomHorizontalFlip(),\n",
        "            ])\n",
        "\n",
        "        self.filenames = sorted([os.path.join(self.root, f) for f in os.listdir(self.root) if f.endswith('.jpg')])\n",
        "        for image_path in glob.glob(self.root + \"/*.jpg\"):\n",
        "          self.data.append(image_path)\n",
        "\n",
        "\n",
        "    def __len__(self):\n",
        "        return len(self.data)\n",
        "\n",
        "    def __getitem__(self , idx):\n",
        "      image_path = self.filenames[idx]\n",
        "      #print(image_path)\n",
        "      image = Image.open(image_path)\n",
        "      image = image.convert('RGBA')\n",
        "      im_tnsr = self.transform(image)\n",
        "      return im_tnsr"
      ]
    },
    {
      "cell_type": "code",
      "execution_count": null,
      "metadata": {
        "colab": {
          "base_uri": "https://localhost:8080/"
        },
        "id": "QRTCJ8sM3TXa",
        "outputId": "b1b65ee5-f7cc-488b-ee39-6fdea1d5e724"
      },
      "outputs": [
        {
          "data": {
            "text/plain": [
              "4977"
            ]
          },
          "execution_count": 73,
          "metadata": {},
          "output_type": "execute_result"
        }
      ],
      "source": [
        "dataset = CustomDataset()\n",
        "test_loader = DataLoader(dataset, batch_size=25)\n",
        "len(dataset)"
      ]
    },
    {
      "cell_type": "code",
      "execution_count": null,
      "metadata": {
        "colab": {
          "base_uri": "https://localhost:8080/"
        },
        "id": "YL0D5kGq4kSz",
        "outputId": "c60ed340-c921-41cf-f02c-88b7e79f9fed"
      },
      "outputs": [
        {
          "output_type": "stream",
          "name": "stdout",
          "text": [
            "tensor([18, 21, 42, 89, 23, 12,  5, 54, 41, 81,  7, 59, 34, 90, 48, 91, 32, 49,\n",
            "         3, 31, 31, 67,  1, 94, 89], device='cuda:0')\n",
            "tensor([20, 40, 61, 86, 43, 93, 51, 36, 93, 88, 68, 19, 35, 40, 55, 11, 23, 25,\n",
            "         9, 16, 40, 87,  4, 34, 30], device='cuda:0')\n",
            "tensor([ 3, 55, 59, 89, 89, 89, 99, 55, 45, 71, 40, 78, 37, 31, 67, 57, 27, 11,\n",
            "        19, 42, 31, 64, 40, 12, 50], device='cuda:0')\n",
            "tensor([64, 61, 99, 63, 51, 89, 97, 49, 26, 42, 25, 62, 56, 32, 26, 27, 20, 56,\n",
            "        42, 49, 93, 20, 20, 78, 40], device='cuda:0')\n",
            "tensor([35, 26,  1, 90, 67, 41, 36, 69, 81, 48, 19, 51, 48, 93, 89,  2, 88,  2,\n",
            "        45,  8, 62, 93, 27,  5, 81], device='cuda:0')\n",
            "tensor([59,  1, 61, 57, 57, 57, 81, 53, 62, 14,  5, 96, 53, 51, 24, 67, 63,  3,\n",
            "        49,  4, 84, 72, 36,  6,  3], device='cuda:0')\n",
            "tensor([64, 15, 23, 98, 79, 87, 18, 37, 14, 16, 19, 81, 22,  2, 65, 65, 56, 70,\n",
            "        94, 58, 33, 31, 50, 33, 18], device='cuda:0')\n",
            "tensor([67, 34, 64, 89, 14, 68, 18, 20, 14, 34,  1, 26, 26, 30, 20, 31, 18, 80,\n",
            "        60, 56,  0, 22, 97, 22, 62], device='cuda:0')\n",
            "tensor([97, 87,  5, 89, 74, 84, 60, 16, 66,  8, 36, 24, 23,  6,  5,  2,  2, 31,\n",
            "        98, 72, 22, 19, 36, 72, 95], device='cuda:0')\n",
            "tensor([23, 37,  0, 44, 22, 40, 70, 56,  8, 59, 21, 87,  3, 19, 63, 47,  3, 20,\n",
            "        94, 59, 97, 77,  6, 40, 42], device='cuda:0')\n",
            "tensor([64,  5, 25, 99, 66, 41, 81, 18, 11, 68, 38, 35, 41, 29, 80, 16, 25, 79,\n",
            "        55, 75, 94, 61, 87, 64,  5], device='cuda:0')\n",
            "tensor([95, 62, 36,  9,  0, 92, 18, 87, 22, 70, 24, 58, 25, 40, 20, 10, 37, 14,\n",
            "        13, 18, 86, 43,  6, 23, 87], device='cuda:0')\n",
            "tensor([15, 88, 50, 16, 13,  0, 90, 31, 99, 19, 16, 17, 90, 31, 26, 23, 22, 66,\n",
            "        42, 11, 30, 31, 15, 68, 73], device='cuda:0')\n",
            "tensor([74,  2, 75, 80,  3, 20, 42,  0, 48, 63, 69, 22, 40, 31, 89, 66, 19, 40,\n",
            "        18, 68, 57, 89, 56,  4, 95], device='cuda:0')\n",
            "tensor([71, 67, 70, 30, 49, 30, 67, 87,  7, 64, 37, 41, 38, 64, 56,  5, 89, 45,\n",
            "         0, 37, 45, 30, 52, 70, 63], device='cuda:0')\n",
            "tensor([74, 41, 19,  5,  5, 29,  0, 56, 83, 68, 16, 64, 88, 44,  0, 16, 26, 95,\n",
            "        16, 88, 61,  6, 61,  3, 34], device='cuda:0')\n",
            "tensor([95, 36, 24, 20, 20, 11, 12, 84, 16, 89, 42, 87, 63, 66, 16, 40,  9, 79,\n",
            "        36, 40, 11, 52, 21, 33, 20], device='cuda:0')\n",
            "tensor([31,  3, 38, 66, 50, 26, 77, 55, 16, 34, 23, 84, 52, 20, 73, 16, 21, 19,\n",
            "        16, 84, 26, 12,  1, 88, 42], device='cuda:0')\n",
            "tensor([97, 72, 50, 92, 66,  5, 80, 19,  5, 10,  0, 54, 75, 92, 49, 42, 64, 52,\n",
            "        54, 20, 90, 74,  0, 57, 27], device='cuda:0')\n",
            "tensor([70, 55, 16, 57, 89, 69, 22, 75, 40, 40, 34, 61, 12, 89, 58, 95, 44, 55,\n",
            "        63, 61, 57, 72, 52, 42, 40], device='cuda:0')\n",
            "tensor([81, 51, 62, 59, 72, 15, 16, 64, 76, 19, 31, 45, 14,  2, 47, 75, 19, 71,\n",
            "        68, 94, 93, 63, 83, 86, 42], device='cuda:0')\n",
            "tensor([25, 19, 16, 39, 35, 52, 89, 19, 89, 63, 52, 42, 15, 21, 64, 32, 93, 47,\n",
            "        36, 92, 64, 70, 47, 74, 54], device='cuda:0')\n",
            "tensor([22, 49, 18, 31, 10, 56, 62, 31, 66, 14, 18,  3, 51, 54, 14, 11, 11,  3,\n",
            "        64, 64, 63, 52, 84, 31, 89], device='cuda:0')\n",
            "tensor([69,  3, 44, 90, 34,  2, 73, 27, 20, 19, 83,  1, 30, 74, 60, 54, 67, 42,\n",
            "        18, 49, 15, 80, 20, 22, 22], device='cuda:0')\n",
            "tensor([57, 43, 96, 31, 23, 64, 98, 16, 90, 62, 81, 44, 69, 90, 40, 92, 70, 34,\n",
            "        27, 76, 54, 10, 15, 56, 90], device='cuda:0')\n",
            "tensor([16, 36, 18, 43, 46, 58, 42,  1,  9, 29, 99, 55,  3, 20, 57, 48, 95, 22,\n",
            "        90, 50, 57, 61, 52, 67,  8], device='cuda:0')\n",
            "tensor([78, 67, 28, 95, 64, 90, 69,  5, 20, 18, 23, 97, 67, 63, 66, 74, 70,  4,\n",
            "        32, 78, 63, 54, 23, 72, 16], device='cuda:0')\n",
            "tensor([48, 64, 67,  2, 78, 66, 86, 42, 91, 67, 16,  5, 98, 57, 70, 80, 84, 10,\n",
            "        90, 33,  9,  2, 21, 34, 52], device='cuda:0')\n",
            "tensor([40, 34, 76, 64, 80, 77, 48, 50, 45, 38, 29, 18, 67,  1, 86, 68,  5, 57,\n",
            "        16,  0, 60, 10, 37, 55, 49], device='cuda:0')\n",
            "tensor([39, 12, 16,  1, 37,  3, 13, 54, 37, 80, 17, 48,  1, 30, 33, 64, 47, 63,\n",
            "        84, 24, 25, 27, 97, 92, 46], device='cuda:0')\n",
            "tensor([32, 31, 89, 48, 65, 51, 16, 36, 57, 64,  1, 26,  5, 94, 92, 87, 83, 19,\n",
            "        49, 66, 35, 43, 64, 10, 45], device='cuda:0')\n",
            "tensor([ 0,  5, 70, 22, 44, 16, 67, 70, 41, 58, 40, 88, 87, 36,  1, 20, 26, 77,\n",
            "        39, 94, 30, 84, 90, 48, 67], device='cuda:0')\n",
            "tensor([24, 28, 36,  8, 62, 87,  3, 11, 64, 89, 76, 55, 55, 66, 35, 21, 64, 80,\n",
            "        31,  5, 40, 10, 21, 50, 57], device='cuda:0')\n",
            "tensor([60, 52, 14, 83,  4, 21, 20, 16, 10, 19, 53, 27, 15,  1, 89, 40, 62, 47,\n",
            "         3, 89, 24, 40, 51, 66, 50], device='cuda:0')\n",
            "tensor([37, 90, 16, 60, 38, 62,  8, 78,  0, 15, 83, 91, 41,  2, 83, 93, 80, 79,\n",
            "        63, 86, 84, 11,  0,  1, 22], device='cuda:0')\n",
            "tensor([39, 63, 50, 54,  0, 13, 30, 68, 94, 14, 40, 40, 48, 24, 17,  1, 72, 73,\n",
            "        50, 82, 12, 76, 40, 31, 12], device='cuda:0')\n",
            "tensor([33, 18, 19, 72, 30, 37, 87, 17, 92, 11, 72,  2,  1, 70, 70,  2, 66, 16,\n",
            "        26, 32, 19,  6, 72, 18, 22], device='cuda:0')\n",
            "tensor([88, 41, 89, 38, 45, 60,  5, 63, 54,  1, 56, 10, 37, 63, 59, 34, 94, 55,\n",
            "        93,  0, 18, 12, 56, 93, 73], device='cuda:0')\n",
            "tensor([13, 73, 92,  1, 71, 17, 46, 75, 72, 84, 70, 39, 75, 62, 72,  0, 16, 84,\n",
            "        40, 41, 76, 47, 33, 23, 40], device='cuda:0')\n",
            "tensor([65,  5, 32, 52, 87, 66,  5, 89, 58, 68, 37, 40, 11, 16, 26, 58, 32, 55,\n",
            "        60, 63, 10, 23,  2, 45, 28], device='cuda:0')\n",
            "tensor([56, 86, 31, 76, 33, 34, 78, 21, 27, 15, 89, 68, 21,  4, 83, 48, 54, 67,\n",
            "        26, 23, 96, 22, 90, 57,  9], device='cuda:0')\n",
            "tensor([40, 68, 37, 85, 67, 92, 60, 39, 79, 63,  0,  5, 81, 62, 16, 88, 16,  3,\n",
            "        82, 34, 39,  5,  5, 46, 89], device='cuda:0')\n",
            "tensor([21, 80, 98, 18, 47,  8, 55, 23, 94, 91, 59, 90, 22, 58, 90, 16, 88, 35,\n",
            "        40, 83, 19, 33, 82, 16, 13], device='cuda:0')\n",
            "tensor([28, 79, 59, 58, 64, 41, 69, 40, 59, 34, 44, 62, 41, 70, 54,  3, 10, 31,\n",
            "        76,  5, 38, 26, 27, 30, 27], device='cuda:0')\n",
            "tensor([50,  0, 55, 81, 19, 46, 72, 10,  1,  1, 72, 54, 52, 42, 40, 15, 19, 56,\n",
            "        28, 70, 60, 52, 27, 68, 92], device='cuda:0')\n",
            "tensor([79, 20, 26, 84, 40,  1, 66, 79, 59, 82, 10, 80, 22, 38, 99, 18, 51, 43,\n",
            "         5,  9,  9, 66, 32, 78, 30], device='cuda:0')\n",
            "tensor([49, 30, 94,  8, 57, 87, 88,  2, 96, 88, 32, 93, 64,  9, 24, 56, 87, 52,\n",
            "        44, 21, 46, 22, 20, 22, 53], device='cuda:0')\n",
            "tensor([ 3, 57, 34, 67, 19, 80, 40, 25,  0,  3, 21, 52, 92, 16, 90,  1,  1, 55,\n",
            "        14, 55, 48, 10,  3, 98, 38], device='cuda:0')\n",
            "tensor([53, 70, 88, 19, 61, 31, 91, 63, 13, 21, 13, 89,  6, 77, 39, 36, 34, 77,\n",
            "        94, 94, 10, 90, 80, 13, 16], device='cuda:0')\n",
            "tensor([ 1, 56, 33,  5, 55, 49, 16, 84, 42, 35, 87, 44, 37, 21, 32, 87, 81, 96,\n",
            "        46, 90, 83, 40, 21, 78, 29], device='cuda:0')\n",
            "tensor([54, 45, 44, 55, 36, 54,  9, 57, 22, 67, 61, 54, 64, 53, 66, 57, 63, 73,\n",
            "        66, 64, 19,  3, 13,  0, 47], device='cuda:0')\n",
            "tensor([54, 16, 31, 14, 41, 96, 82, 29, 52, 64, 49, 42, 31, 22, 20, 38, 30, 21,\n",
            "        59, 63,  3, 79, 49, 33, 22], device='cuda:0')\n",
            "tensor([95, 44,  1, 45,  9, 28,  0, 86, 27, 22, 20, 16, 57, 57, 84, 89, 63, 18,\n",
            "        17, 68, 28, 87, 98, 75,  8], device='cuda:0')\n",
            "tensor([40, 24, 80, 91, 32, 77,  3, 55, 26, 79, 54,  1, 21, 40, 19, 49, 40, 25,\n",
            "        54, 23, 84, 74, 35, 94, 46], device='cuda:0')\n",
            "tensor([37, 69, 58, 37, 39, 14,  3, 17,  5, 49, 52, 99, 26, 27, 27, 37, 22, 48,\n",
            "        57, 98, 57, 93, 18, 32, 79], device='cuda:0')\n",
            "tensor([ 5, 97, 30, 33, 84, 40, 26, 35, 36, 79,  3, 64, 27, 98, 95, 90, 54,  3,\n",
            "        84, 23, 66, 66, 68, 54, 34], device='cuda:0')\n",
            "tensor([47, 22, 16, 56, 18, 19, 57, 83, 19, 77, 34, 29, 79, 16, 93, 22, 30, 67,\n",
            "        92, 56, 19, 98, 42, 66, 97], device='cuda:0')\n",
            "tensor([46, 45, 90, 57,  3, 91, 97, 80, 65, 54, 39, 63,  4, 92, 26, 15, 18, 67,\n",
            "        78, 92,  4, 98, 11,  0,  3], device='cuda:0')\n",
            "tensor([47, 16, 60, 56, 65, 29, 50, 17, 80, 65, 69, 52, 79, 16, 36, 78, 35, 79,\n",
            "         7, 59,  5, 26, 61,  8,  8], device='cuda:0')\n",
            "tensor([21, 41, 18, 64, 98,  3, 88, 13, 56, 44, 68, 89, 35, 31, 92, 43, 20, 18,\n",
            "        63, 23, 52, 40, 79, 80, 62], device='cuda:0')\n",
            "tensor([79,  3, 20, 41, 89, 90, 74, 12,  8, 17, 22, 65, 23, 98, 21, 16, 24, 12,\n",
            "        26, 40, 63, 37, 64, 94, 71], device='cuda:0')\n",
            "tensor([62, 54, 27, 78, 51, 86, 93, 16, 12, 22, 83, 78, 81, 49, 83, 37, 65, 79,\n",
            "        18, 10, 37, 42, 72, 22, 35], device='cuda:0')\n",
            "tensor([ 5,  4, 47, 24, 59, 94, 13, 65, 94, 76, 14, 34, 53, 94, 94,  9, 76, 67,\n",
            "        92, 63, 85, 17, 62, 22,  5], device='cuda:0')\n",
            "tensor([35, 88, 35,  1, 84, 16, 50, 11, 51, 65, 23, 14, 64, 84, 60, 21, 27, 29,\n",
            "         3, 12, 29, 67, 36, 76, 94], device='cuda:0')\n",
            "tensor([44, 72, 60, 21, 15, 90,  1, 81, 18, 48, 87, 37, 31, 16, 52, 54, 78, 10,\n",
            "        54, 21, 81, 43,  1, 76, 38], device='cuda:0')\n",
            "tensor([43, 66,  7, 86,  9, 97, 15, 75, 94, 52, 83, 21, 81, 90, 45,  1, 69, 40,\n",
            "        35, 22, 21, 37,  8, 31, 40], device='cuda:0')\n",
            "tensor([ 9, 66, 64, 54, 54, 64, 49, 61, 45, 20, 15, 34, 37, 15, 57, 41, 19, 42,\n",
            "        67, 58,  4, 21,  5, 39, 40], device='cuda:0')\n",
            "tensor([83, 27, 89, 41, 15, 29,  5, 56, 20, 89, 86, 68, 94, 47, 34, 62, 18, 59,\n",
            "        22, 69,  1, 11, 95, 34, 18], device='cuda:0')\n",
            "tensor([41, 34, 40, 19, 85, 74, 15, 34,  3, 61, 57, 70, 72, 20, 30, 55, 30, 40,\n",
            "        25, 82, 28, 16, 31, 22, 34], device='cuda:0')\n",
            "tensor([99, 54,  9, 69,  0, 68, 41, 25, 26,  4, 34, 75, 65, 61, 70, 20, 60, 89,\n",
            "        41, 88, 70, 42, 94, 46, 64], device='cuda:0')\n",
            "tensor([42, 39, 16, 91, 46, 16, 63, 15, 77, 18, 27, 33, 40,  3,  0,  3, 67, 61,\n",
            "        40, 78, 64, 64, 21, 67, 49], device='cuda:0')\n",
            "tensor([79, 28, 79, 49, 81, 56, 78, 66, 23, 53, 98, 16, 14,  1, 72, 46, 89, 44,\n",
            "        22, 18, 73,  5, 40, 40, 49], device='cuda:0')\n",
            "tensor([ 3, 50, 89, 33, 13,  3, 52, 21, 81, 76, 72,  3, 11, 97, 81, 27, 40, 34,\n",
            "        87, 57, 22,  9, 54, 55, 71], device='cuda:0')\n",
            "tensor([16,  1, 34, 55,  5,  9, 94, 63, 60,  5, 10, 55, 64,  6, 83, 16, 25, 64,\n",
            "        50, 41, 56, 15,  5, 12, 11], device='cuda:0')\n",
            "tensor([40, 30, 82, 92, 81, 89, 19, 94, 68, 59, 36, 74, 31, 64, 67, 40, 86, 36,\n",
            "        30,  9, 31, 31, 42, 72, 51], device='cuda:0')\n",
            "tensor([89, 19, 94, 84, 40,  5, 20, 19, 16, 96, 31, 22, 63, 88, 69, 40, 89, 70,\n",
            "        47, 76, 11, 10, 82, 24, 31], device='cuda:0')\n",
            "tensor([70, 73, 31, 77, 92, 97, 80, 23, 21, 49,  5, 89, 15, 92, 35, 12, 20,  7,\n",
            "        54, 67, 21, 54, 70, 34, 88], device='cuda:0')\n",
            "tensor([30, 67, 31, 37, 84, 18, 72, 22, 24, 60, 41, 77,  3, 12, 78, 36, 95, 89,\n",
            "        54, 35,  1, 61, 23, 16, 34], device='cuda:0')\n",
            "tensor([31, 35, 63, 71, 69, 46, 44, 58, 18, 57, 69, 50, 22, 50, 14, 28, 42, 89,\n",
            "        10, 79, 64, 29,  9, 31, 97], device='cuda:0')\n",
            "tensor([30, 96, 76, 47, 69, 72, 70, 18, 87, 27, 69, 19, 30, 96, 19, 51, 31, 62,\n",
            "        19, 85,  1, 60, 98, 23, 57], device='cuda:0')\n",
            "tensor([96, 19, 71,  3, 35, 28, 17,  5, 34,  1, 62,  3, 22, 69, 47, 20, 96, 23,\n",
            "        93, 89, 45, 28, 64, 52, 89], device='cuda:0')\n",
            "tensor([40, 48, 64, 74, 25, 86, 58, 44, 67, 36,  1, 34, 67, 86,  9, 39, 20,  1,\n",
            "        68, 40, 10, 98, 38, 89,  9], device='cuda:0')\n",
            "tensor([37, 13, 44, 30,  2, 87, 89, 86, 42, 89, 46, 57, 37, 21, 66, 24, 31, 37,\n",
            "        79,  4, 72, 15, 98, 21, 96], device='cuda:0')\n",
            "tensor([ 6, 58, 12, 79, 17,  3, 24,  2, 31, 84,  2, 64, 29, 85,  1, 19, 15, 55,\n",
            "        39, 56, 20, 33,  0, 18, 34], device='cuda:0')\n",
            "tensor([ 3, 44,  1, 32, 40, 17, 59, 34, 78, 71, 52,  9, 90,  6, 34, 24, 67, 12,\n",
            "        54,  0, 29, 72, 20, 36, 95], device='cuda:0')\n",
            "tensor([ 0, 23, 23, 18, 33, 49, 20, 86, 97, 48, 62, 98, 54, 69, 49, 67, 40, 66,\n",
            "        47, 30, 52,  3, 21, 10, 65], device='cuda:0')\n",
            "tensor([50, 66, 22, 75, 67, 55, 92, 62, 49, 22, 90, 18, 80, 76, 57, 47, 10, 72,\n",
            "        64, 79, 50, 40, 25, 48, 18], device='cuda:0')\n",
            "tensor([ 5,  5, 20, 70, 59,  2, 62, 93, 56, 80, 55,  5, 20, 84, 51, 64,  9, 16,\n",
            "        89, 74, 10, 57, 61, 54, 82], device='cuda:0')\n",
            "tensor([50, 76, 16, 91, 67, 20, 70, 54, 67, 28,  7,  4, 48, 49,  3, 93, 70, 36,\n",
            "        80, 18, 24, 70, 10, 26, 10], device='cuda:0')\n",
            "tensor([18, 98, 43,  3, 72,  9, 23, 40, 34, 85,  1,  8, 17, 57, 19, 44, 73, 20,\n",
            "        43, 64,  6, 35, 78, 34, 10], device='cuda:0')\n",
            "tensor([90, 20, 94, 23, 20, 70, 79, 41, 81, 72, 46,  5, 40, 57,  3,  8,  5,  9,\n",
            "        93, 30,  8, 17, 68, 24, 37], device='cuda:0')\n",
            "tensor([19, 44, 71, 50,  9, 84, 69, 18, 86, 54, 76, 55,  0, 23, 66, 33, 22, 25,\n",
            "        48, 43, 59, 87, 54, 40,  3], device='cuda:0')\n",
            "tensor([37, 26, 14, 64, 72, 20, 22, 66, 89, 66, 16, 72, 54, 35, 93, 16, 29, 94,\n",
            "        59, 29, 54,  3, 46, 81, 55], device='cuda:0')\n",
            "tensor([99, 41, 45, 64,  4, 12, 70, 70, 89, 20, 97, 36,  7, 63, 24, 19, 43, 22,\n",
            "        39, 73, 92, 92, 13, 16, 38], device='cuda:0')\n",
            "tensor([38, 67, 19,  4, 81, 41, 94,  0, 47, 30, 60, 40, 49, 49, 81, 30, 32, 12,\n",
            "        27,  3,  9, 89, 26, 52, 26], device='cuda:0')\n",
            "tensor([40, 11, 52, 63, 11, 70,  3,  9,  0, 11, 83, 81, 90, 40, 19, 20, 90, 89,\n",
            "        97, 17, 84, 56, 63, 58, 84], device='cuda:0')\n",
            "tensor([52,  1, 40,  4, 55, 60, 90, 70, 75, 43,  5,  3,  2, 57, 23, 42, 21, 31,\n",
            "        64, 15,  3, 49, 20, 44, 19], device='cuda:0')\n",
            "tensor([ 9,  1, 66, 67, 19, 55, 70,  6, 51, 18, 27, 55, 61, 22, 81, 13, 61, 26,\n",
            "        95, 14, 42, 30, 64, 66, 45], device='cuda:0')\n",
            "tensor([92, 56, 98, 54, 30, 54, 70, 20, 82, 44,  3, 15, 73, 31, 89, 80, 66, 86,\n",
            "        78, 52, 37, 22, 64, 47, 34], device='cuda:0')\n",
            "tensor([83, 16, 44, 16, 61, 93, 22, 57, 21, 72, 57,  0, 88,  1, 36, 44, 72, 52,\n",
            "        50,  5, 38, 54, 86, 72, 75], device='cuda:0')\n",
            "tensor([87,  1, 77, 50, 67, 16, 65, 86, 56, 56, 40,  5,  3, 72, 57, 70, 44, 13,\n",
            "         1, 42, 40, 13, 83, 70, 18], device='cuda:0')\n",
            "tensor([80,  7, 43,  1, 94, 93, 24, 21, 12, 70, 34,  0, 57, 59, 68, 87, 75, 79,\n",
            "        64, 18, 84, 97, 56, 40, 78], device='cuda:0')\n",
            "tensor([16, 31, 90, 18, 20, 52, 26, 58, 89, 57, 16, 57, 37, 98, 57, 25, 21, 52,\n",
            "        84,  9, 59, 16, 71,  3, 26], device='cuda:0')\n",
            "tensor([52, 20, 50, 18, 41, 43, 25, 22, 42, 89,  4, 73, 33, 28, 62, 33, 46, 94,\n",
            "        26, 33, 14, 55, 86, 25, 79], device='cuda:0')\n",
            "tensor([86, 44,  5, 64, 92, 68, 54, 92, 62, 99, 93, 86, 23, 81, 39, 33, 16, 13,\n",
            "        78, 80, 56, 13, 97, 17, 54], device='cuda:0')\n",
            "tensor([35, 84, 16, 46, 50,  1, 84, 40, 57, 64, 93, 18, 47, 84, 31, 27, 61, 22,\n",
            "        84, 19, 18, 49,  2, 53, 40], device='cuda:0')\n",
            "tensor([39, 84, 30, 15, 75, 50, 40,  6, 65, 65, 38, 17,  3, 73, 22, 25, 66, 70,\n",
            "        58, 48, 36, 64, 40, 94, 58], device='cuda:0')\n",
            "tensor([93, 87, 20, 61, 64, 22,  4, 14, 35, 49, 33, 59, 18, 31, 32, 11, 11,  3,\n",
            "        92,  1, 81, 61, 63, 22, 68], device='cuda:0')\n",
            "tensor([12, 71, 27,  2, 40, 11, 22, 64, 18, 44, 37, 40, 19, 64, 56,  3, 31, 43,\n",
            "        19, 70,  0, 84, 70, 57,  5], device='cuda:0')\n",
            "tensor([84, 31,  0, 72,  5, 20, 40, 12, 64, 47, 57, 97, 40, 13, 49,  8, 97, 93,\n",
            "        34, 49,  1, 70, 27, 75, 55], device='cuda:0')\n",
            "tensor([47, 20, 40, 84, 99, 38, 48, 86, 39, 21, 31, 52, 90, 26,  0, 64, 99, 80,\n",
            "        12, 22, 15, 44, 13, 79, 40], device='cuda:0')\n",
            "tensor([26, 39, 22,  9, 15, 35, 72, 15, 57, 81, 41, 19, 60, 26, 34, 31, 37, 35,\n",
            "        96, 68,  7, 67, 84, 19, 10], device='cuda:0')\n",
            "tensor([63, 37, 20, 11, 19, 12, 56, 80,  5, 64, 85, 61, 89, 55, 16, 59,  3, 67,\n",
            "        80, 41, 64, 59, 10, 57, 12], device='cuda:0')\n",
            "tensor([19, 31, 87, 94, 88, 20, 91, 52, 68, 88, 58,  3, 82, 61, 50, 16, 16,  1,\n",
            "        19,  1, 64, 69, 51, 75, 63], device='cuda:0')\n",
            "tensor([ 5, 21, 20, 88, 49, 17, 53, 97, 37, 25,  9, 49, 22, 82, 23, 61, 47, 10,\n",
            "        93, 92, 42, 64, 73, 50, 46], device='cuda:0')\n",
            "tensor([67, 65, 19,  6, 24, 27, 42, 74, 27, 64, 61, 13, 94, 55, 57, 58, 35, 32,\n",
            "        52, 96, 40, 52, 95, 26, 35], device='cuda:0')\n",
            "tensor([75,  9, 81, 66, 55, 86, 95, 99, 20, 92, 50, 88, 90, 30, 63, 89, 30, 88,\n",
            "        86,  9, 68, 68, 90, 55, 59], device='cuda:0')\n",
            "tensor([57, 30, 17, 20, 40, 44, 14, 20, 39, 94, 20, 17, 65, 57, 16, 24, 18, 34,\n",
            "        23, 24, 67, 27, 19, 80, 18], device='cuda:0')\n",
            "tensor([22, 80, 86, 80, 19, 58,  5, 22, 68, 81, 83, 25,  3, 66, 35, 41,  3, 84,\n",
            "        10, 97, 64, 31, 72, 28, 45], device='cuda:0')\n",
            "tensor([16, 90, 61, 37,  3, 52, 74, 28, 90, 64,  3, 64, 70, 19, 98, 72, 73, 50,\n",
            "        54, 86, 49,  5, 49, 12, 38], device='cuda:0')\n",
            "tensor([21,  1,  5, 55, 15, 42, 70, 63, 86,  5,  0, 22, 64, 58,  5, 86, 57, 97,\n",
            "        88, 54, 42, 20, 69, 57, 60], device='cuda:0')\n",
            "tensor([60, 84, 55,  0, 86, 30, 60, 47, 36, 52, 57, 89, 19, 56,  5,  2, 96, 88,\n",
            "        42,  5, 96, 80, 23, 20, 18], device='cuda:0')\n",
            "tensor([83, 69, 27, 89, 45, 92, 54, 72, 11,  0, 64, 74, 16, 70, 78, 89, 49,  1,\n",
            "        42, 76, 92, 91, 40, 42, 39], device='cuda:0')\n",
            "tensor([31, 70,  5, 89, 42, 50, 67, 37, 14, 64, 46, 39, 49,  5, 21, 13, 78, 56,\n",
            "        22, 81, 34, 51, 20, 19, 93], device='cuda:0')\n",
            "tensor([29, 48, 13, 62, 37, 89, 18, 57, 67, 34, 67,  2, 39, 87, 69, 85, 54,  3,\n",
            "        12, 95, 19, 30, 24, 20, 42], device='cuda:0')\n",
            "tensor([ 1, 19, 70, 94, 26,  5, 36, 52, 79, 17, 76, 95, 57,  0, 25, 86, 64, 49,\n",
            "         1, 43, 23, 42, 64, 14, 70], device='cuda:0')\n",
            "tensor([16, 18, 14, 94, 32, 99, 60, 13, 31, 78, 66, 70, 70, 15, 27, 76, 33, 40,\n",
            "        16, 90,  5, 54, 69, 52, 97], device='cuda:0')\n",
            "tensor([81, 15, 51, 11, 57, 85, 28, 39, 89, 19, 19, 44, 52, 57,  5, 90, 13, 89,\n",
            "        86, 16, 62, 14, 17, 46, 66], device='cuda:0')\n",
            "tensor([49, 14, 91, 40, 84, 53, 61, 35, 76, 51, 78, 95, 39, 40, 79, 98, 19, 88,\n",
            "        64, 93,  5, 52, 96, 32, 64], device='cuda:0')\n",
            "tensor([79, 68, 98, 32, 89, 19, 14,  1, 48, 29, 66, 57, 35, 55, 16, 34, 31, 89,\n",
            "        39, 79, 37, 81, 36, 71, 13], device='cuda:0')\n",
            "tensor([ 9,  2, 40, 93, 48,  5, 11, 62, 26, 20, 82,  7, 49, 40, 61, 97, 43,  3,\n",
            "        66, 27, 62,  0, 40, 71, 58], device='cuda:0')\n",
            "tensor([67, 44, 20,  1, 24,  6, 56, 51, 60,  0,  6, 34, 64, 65, 35, 74, 33, 66,\n",
            "        75, 96, 27, 66, 40, 17, 62], device='cuda:0')\n",
            "tensor([44,  5, 31, 18, 64, 46, 73, 57, 89, 41, 39, 70, 90, 66, 22,  9, 88, 20,\n",
            "        10, 83, 67, 11, 59, 69, 40], device='cuda:0')\n",
            "tensor([99, 60, 39, 88, 20,  1, 27, 50, 21, 72, 57, 43, 39, 24, 91, 69, 33, 26,\n",
            "        56, 38, 49, 37, 37,  1, 52], device='cuda:0')\n",
            "tensor([14,  0,  1, 43, 28, 18, 84, 98, 18, 22, 36, 89, 51, 74, 45,  9, 57, 21,\n",
            "        76, 60, 70, 35, 66,  0, 31], device='cuda:0')\n",
            "tensor([45,  3,  8, 39, 79, 60, 56, 66,  0, 43, 51,  5, 11, 43, 22, 19, 81, 55,\n",
            "        52, 75,  5, 67, 56, 40, 66], device='cuda:0')\n",
            "tensor([93, 57, 19,  3, 67, 16, 65,  0, 18, 93,  3, 86, 20, 19,  8, 18, 10, 74,\n",
            "        55, 59, 26, 54,  1, 40, 31], device='cuda:0')\n",
            "tensor([89, 14, 69, 73, 16, 40, 69, 40, 25,  5, 70, 18, 69, 52,  0, 72, 73, 42,\n",
            "        34, 80, 72, 62, 87, 82, 39], device='cuda:0')\n",
            "tensor([ 3,  0, 94, 98, 64,  2, 47, 47, 50, 11, 97, 57, 18, 89, 69, 56, 84, 82,\n",
            "        80, 52, 23, 16,  0, 88, 62], device='cuda:0')\n",
            "tensor([54, 42, 67, 98, 32, 76, 36, 45, 44, 25, 44, 70, 45, 56, 28, 54, 18, 31,\n",
            "        83, 84, 52, 52, 20, 48, 24], device='cuda:0')\n",
            "tensor([34, 40, 16, 97, 41, 56, 45, 62, 45, 62, 69,  4, 31, 34, 15, 31,  7,  1,\n",
            "        19, 42,  6, 47, 89, 40, 57], device='cuda:0')\n",
            "tensor([98, 49, 85, 60, 20, 34, 89, 67, 41, 18, 41, 20, 13, 89, 86, 37, 73, 33,\n",
            "        69, 74, 56, 31, 41, 49, 99], device='cuda:0')\n",
            "tensor([65,  4, 56, 24, 18, 63, 31,  0, 90, 29, 88,  6, 90,  3, 88, 20, 63, 79,\n",
            "        46, 93, 90, 75, 27, 16, 20], device='cuda:0')\n",
            "tensor([64, 48, 40,  5, 31, 13, 40, 14, 79, 67, 81, 42, 35,  9, 56, 40, 11, 28,\n",
            "        54, 70, 41, 64, 29, 34, 18], device='cuda:0')\n",
            "tensor([82, 75, 27, 89, 46,  3, 69, 92, 24, 55, 20, 60, 87, 31, 84, 45, 86, 57,\n",
            "        39, 66,  1, 14, 75, 79, 34], device='cuda:0')\n",
            "tensor([52, 14, 12, 81, 79, 29, 60, 62, 89, 13, 54, 64, 30, 10,  5, 34, 13, 88,\n",
            "        41, 20, 14, 69, 83, 47, 18], device='cuda:0')\n",
            "tensor([86, 26, 63, 47, 54, 98, 11, 39, 70, 40, 37, 44, 31, 11,  1, 10, 57,  9,\n",
            "        88,  1, 51, 69, 34, 53, 18], device='cuda:0')\n",
            "tensor([10, 81, 34, 89, 43, 60, 42, 84, 70, 81, 19, 84, 56, 36, 11, 60, 58, 12,\n",
            "        33, 54, 11, 20, 80, 31, 69], device='cuda:0')\n",
            "tensor([18, 90, 19, 84, 90, 23, 14,  5, 49, 90, 17,  3, 19, 20, 19, 94, 52, 10,\n",
            "        92,  3, 69, 65,  1, 76, 66], device='cuda:0')\n",
            "tensor([94, 88, 66, 68, 26, 95, 24, 57, 97, 52, 47, 57, 56, 54,  2, 25, 86,  3,\n",
            "        69, 34,  9,  8, 68, 65, 70], device='cuda:0')\n",
            "tensor([ 4, 66, 68, 26, 85, 16, 40, 86, 11, 87,  3, 22,  1, 11, 48, 52, 52, 95,\n",
            "        60, 19, 14, 49, 64, 16, 75], device='cuda:0')\n",
            "tensor([ 3, 31, 10, 49, 19, 21, 41, 67,  2, 24, 88, 16,  7, 72, 40, 91, 50, 15,\n",
            "        17, 45, 30, 80, 52, 99, 28], device='cuda:0')\n",
            "tensor([55, 90, 56, 76, 60, 95, 60, 89, 83,  4, 69, 15, 34, 22, 54, 45, 84, 44,\n",
            "        57, 22, 78, 84,  2, 89, 37], device='cuda:0')\n",
            "tensor([31, 65, 31, 81,  1, 94, 75, 30, 70, 81, 12, 43, 46, 46, 16, 25, 50, 62,\n",
            "        31, 16, 99,  0, 20, 22, 96], device='cuda:0')\n",
            "tensor([81, 27, 18, 54, 89, 27, 84,  9, 65, 93, 52, 42, 68,  9, 34, 90,  1,  8,\n",
            "        79, 66, 84, 34, 67, 64, 69], device='cuda:0')\n",
            "tensor([ 5, 62, 48, 34, 21, 66, 13, 34, 42, 97, 29, 66, 28, 98, 98, 21, 10, 95,\n",
            "        16, 93, 34, 97, 23, 27, 87], device='cuda:0')\n",
            "tensor([66, 16, 72, 82, 89, 61, 22, 28, 22, 98, 72, 55, 10, 66, 20, 83, 96, 63,\n",
            "        27, 78, 97, 89, 32, 80, 82], device='cuda:0')\n",
            "tensor([52, 24, 10, 54, 83, 64, 37, 70, 26, 43, 10, 85, 89, 20, 37, 64, 72, 99,\n",
            "        78, 34, 62,  6, 87, 17, 24], device='cuda:0')\n",
            "tensor([38, 21, 89, 33, 14, 48, 87, 19, 16, 69,  4, 59, 84, 33, 89, 42, 66, 53,\n",
            "        58, 21, 32, 32, 14, 64, 64], device='cuda:0')\n",
            "tensor([49,  5, 72, 42, 76, 64, 69, 41, 31, 41, 30, 40, 64, 28, 97, 52, 16, 96,\n",
            "        44, 11, 50, 47, 11, 98, 22], device='cuda:0')\n",
            "tensor([90, 41, 39, 11, 47,  9, 98, 23, 52, 98, 48,  9, 72, 55, 17, 88, 82, 84,\n",
            "        54,  5, 57, 28, 89, 88, 29], device='cuda:0')\n",
            "tensor([89, 36, 40, 93, 87, 54,  3, 71, 40, 37, 80,  8, 10, 87, 28,  9, 50,  0,\n",
            "         5, 63, 54,  9, 36, 67, 87], device='cuda:0')\n",
            "tensor([52, 78, 28, 88, 80, 54,  5,  3, 60, 87, 58, 69, 18,  3,  9, 31, 60, 16,\n",
            "        36, 32, 55, 52, 17, 51, 34], device='cuda:0')\n",
            "tensor([13, 27, 83, 67, 89, 19, 28, 72, 49, 79,  3, 72, 69, 42,  3, 78, 63, 15,\n",
            "        78, 71, 16, 84, 31, 89, 64], device='cuda:0')\n",
            "tensor([16, 83, 49, 40, 67, 75,  3, 31, 67, 60,  3, 83, 26, 80,  3, 64, 56, 31,\n",
            "        33, 62, 71, 18, 54, 31, 62], device='cuda:0')\n",
            "tensor([30, 35, 54, 84, 68, 22, 88, 55, 54, 35, 90, 88, 97, 68, 75, 31, 22, 72,\n",
            "        94, 46, 14, 80, 54, 31, 92], device='cuda:0')\n",
            "tensor([ 5, 18, 97, 70, 71, 89, 22, 85, 87, 13, 74, 79, 30, 40, 14, 16, 48, 19,\n",
            "        84, 15, 84, 63, 16, 11, 68], device='cuda:0')\n",
            "tensor([73, 19, 79, 31, 90, 54, 41, 46, 15, 35, 89, 57, 27,  1, 19,  8, 52, 79,\n",
            "        52, 16, 56, 89,  1, 47, 84], device='cuda:0')\n",
            "tensor([64, 80, 30, 97, 26, 11, 63, 28, 82, 21, 67, 69, 94,  6, 89, 82, 18, 50,\n",
            "         6, 54, 36, 31, 62, 74, 54], device='cuda:0')\n",
            "tensor([55, 27, 30, 79, 22, 57, 65, 74,  5, 87, 13, 37, 50, 95, 53, 19, 10, 42,\n",
            "        89, 34, 49,  9,  8,  5, 41], device='cuda:0')\n",
            "tensor([45, 64, 37, 33, 57, 34, 57, 80, 66, 90, 56, 62, 26, 20,  1, 86, 52,  5,\n",
            "        35, 47,  1,  8, 89, 16, 14], device='cuda:0')\n",
            "tensor([ 5,  1, 36,  1, 35, 90, 46, 61, 67, 64, 88, 56, 14, 72, 89, 67,  6, 63,\n",
            "        87, 41, 24, 73, 39, 55, 89], device='cuda:0')\n",
            "tensor([53, 79,  1, 44, 89, 42, 23, 82, 40, 40, 17, 46, 97, 19, 70, 64, 48, 30,\n",
            "        70, 27, 16, 52, 71, 44, 54], device='cuda:0')\n",
            "tensor([96, 80, 13, 39, 14, 40, 89, 25, 43, 32, 31, 47, 33, 92, 64, 44, 29, 68,\n",
            "        44, 84, 70, 16, 51, 37, 57], device='cuda:0')\n",
            "tensor([65, 70, 57, 59, 55,  1, 83, 40, 88, 21, 89, 72, 49, 15, 30, 33, 94,  1,\n",
            "        97, 27, 17, 18, 10, 13,  8], device='cuda:0')\n",
            "tensor([ 3, 37, 40, 84, 80, 20, 63, 64, 42, 93, 20, 10, 10, 70, 55, 22, 18,  3,\n",
            "         7, 44,  9, 66, 89,  6,  0], device='cuda:0')\n",
            "tensor([ 4, 61,  9, 92, 26, 93, 51, 61, 48,  0, 57,  8, 18, 22, 54, 56, 16, 95,\n",
            "        25, 56, 81, 30, 18, 48, 44], device='cuda:0')\n",
            "tensor([86, 64, 64, 31, 60, 57, 17, 12, 62, 64, 80, 97, 54, 57, 97, 17, 32, 28,\n",
            "        66, 60, 68, 69, 26, 86, 95], device='cuda:0')\n",
            "tensor([ 8,  3, 33, 74, 66, 90, 24, 58,  9, 35, 45, 60, 91, 63, 22,  0, 14,  9,\n",
            "         3,  1, 86, 26, 60, 17, 40], device='cuda:0')\n",
            "tensor([62,  0, 86, 50, 68, 49, 54, 13, 69, 29,  2,  6, 57, 95, 98, 18, 70, 75,\n",
            "         1, 47, 12, 18, 13, 76, 57], device='cuda:0')\n",
            "tensor([ 1, 76, 66, 25, 40, 89, 64, 21, 58,  3, 55, 94, 99, 18, 55, 27, 86, 72,\n",
            "        21, 84, 79, 44, 54, 84, 98], device='cuda:0')\n",
            "tensor([63, 70, 27, 20,  3, 62, 84,  5, 77, 86, 19, 72, 72, 16, 59, 99, 80, 81,\n",
            "        37, 11, 46, 47, 98,  2, 92], device='cuda:0')\n",
            "tensor([81, 98, 16, 31, 16,  0, 87, 66, 40, 38, 21, 72, 30, 49, 22, 43, 37, 49,\n",
            "        16, 72, 57, 37, 71, 98, 76], device='cuda:0')\n",
            "tensor([ 3, 34, 66, 72, 52, 31, 80, 34,  5,  5, 69, 47, 28, 37, 36, 20,  8, 28,\n",
            "        42, 16, 63, 34, 80, 12,  1], device='cuda:0')\n",
            "tensor([15, 78, 51, 26, 33,  1, 48, 38, 34, 54, 17, 31, 86, 58, 98, 50, 52, 22,\n",
            "        18,  4, 54, 21, 56, 59, 41], device='cuda:0')\n",
            "tensor([28, 41, 96, 57, 38, 16, 41, 25, 64, 35, 54, 72, 34, 34, 22, 89, 58, 11,\n",
            "        49, 69, 66, 41, 42, 31, 87], device='cuda:0')\n",
            "tensor([34,  5, 46, 72, 60, 11, 76, 47, 55, 64,  0, 72, 18, 79, 51, 64, 72, 22,\n",
            "        58, 47,  3, 35, 47, 54, 19], device='cuda:0')\n",
            "tensor([20, 98, 61, 98, 70, 94, 87, 71, 31, 11, 39, 51, 68, 31, 81, 44, 36,  3,\n",
            "        62, 40, 37, 79, 62,  1,  9], device='cuda:0')\n",
            "tensor([ 0,  1, 16, 54, 79, 80, 63, 60, 27, 70, 18, 16, 19,  0, 64,  5,  5, 81,\n",
            "        16,  0, 21, 73, 89,  5, 65], device='cuda:0')\n",
            "tensor([40, 31, 15, 79, 76, 55, 60, 98, 84, 89, 64, 64, 37, 24, 68, 85, 62, 20,\n",
            "        21,  5, 38, 46, 33,  5, 97], device='cuda:0')\n",
            "tensor([ 4, 21, 70, 97, 88, 87, 66, 16,  3, 22, 36, 87, 30, 10, 93, 23, 57, 37,\n",
            "        49, 62, 70, 89, 12, 13, 27], device='cuda:0')\n",
            "tensor([41,  3, 16,  1, 19,  4,  5, 37, 64, 64, 33, 99, 42, 96, 16, 15, 63, 45,\n",
            "        60,  4, 45, 76, 35, 20, 12], device='cuda:0')\n",
            "tensor([84, 88, 55, 66, 97, 13, 85, 31, 94, 47, 13, 12, 61, 18, 20, 40, 90, 64,\n",
            "         5, 69, 31,  3, 15, 56, 76], device='cuda:0')\n",
            "tensor([61, 13, 59, 57,  1, 31, 93,  3, 40,  9, 20, 66, 18, 12, 22, 67, 21, 59,\n",
            "        37, 57, 51, 40, 25, 18,  7], device='cuda:0')\n",
            "tensor([87, 56, 79, 58, 12, 43, 32, 87, 32, 18, 31,  0, 49, 33, 97, 31, 76, 35,\n",
            "        17, 23, 21, 14,  8, 16, 54], device='cuda:0')\n",
            "tensor([97, 70, 80, 61, 64, 34, 36, 52, 87, 39, 45, 20, 67, 30, 78, 61, 40, 66,\n",
            "        16,  0, 19,  9, 34, 84, 74], device='cuda:0')\n",
            "tensor([11, 10, 59, 39, 64, 23, 55, 68, 94, 40, 75, 82, 65, 64,  1, 50, 94, 63,\n",
            "        20, 46, 26, 26, 11, 61, 56], device='cuda:0')\n",
            "tensor([72, 93, 34, 69,  1,  3, 62, 81, 25, 26, 47, 85, 12, 22, 20, 50, 66, 27,\n",
            "        30, 60, 69, 93, 24, 66, 26], device='cuda:0')\n",
            "tensor([31,  3, 87, 16,  5, 66, 75, 91, 37,  5, 63, 22, 11, 43, 20, 93, 77, 40,\n",
            "        51, 20, 19, 35, 82, 18, 11], device='cuda:0')\n",
            "tensor([70, 16], device='cuda:0')\n"
          ]
        }
      ],
      "source": [
        "#correct = 0\n",
        "#total = 0\n",
        "import matplotlib.pyplot as plt\n",
        "model.eval()\n",
        "preds = []\n",
        "with torch.no_grad():\n",
        "    for data in test_loader:\n",
        "        images = data\n",
        "        images = images.cuda()\n",
        "        #image_np = images[0].detach().cpu().numpy()\n",
        "        #img_np = np.transpose(image_np, (1, 2, 0)).clip(0,1)\n",
        "        #img_np = np.transpose(image_np, (1, 2, 0)).clip(0,1)\n",
        "        #plt.imshow(img_np)\n",
        "        #plt.show()\n",
        "        #labels = labels.cuda()\n",
        "        outputs = model(images)\n",
        "        _, predicted = torch.max(outputs.data, 1)\n",
        "        print(predicted)\n",
        "\n",
        "        preds.append(predicted)\n",
        "\n"
      ]
    },
    {
      "cell_type": "code",
      "execution_count": null,
      "metadata": {
        "colab": {
          "base_uri": "https://localhost:8080/"
        },
        "id": "Tjf-hIQtAYwL",
        "outputId": "1082e3b6-1b80-4d5a-aa44-5076197c14cc"
      },
      "outputs": [
        {
          "output_type": "execute_result",
          "data": {
            "text/plain": [
              "4977"
            ]
          },
          "metadata": {},
          "execution_count": 76
        }
      ],
      "source": [
        "pre = []\n",
        "\n",
        "for batch_images in preds:\n",
        "    pre.extend(batch_images)\n",
        "\n",
        "len(pre)"
      ]
    },
    {
      "cell_type": "code",
      "execution_count": null,
      "metadata": {
        "colab": {
          "base_uri": "https://localhost:8080/"
        },
        "id": "YNR2oGv7GXIu",
        "outputId": "e9de6fdc-e24b-4e9e-d9d1-f90745ed4acd"
      },
      "outputs": [
        {
          "output_type": "stream",
          "name": "stdout",
          "text": [
            "Alexis Thorpe\n"
          ]
        }
      ],
      "source": [
        "print(names[19])"
      ]
    },
    {
      "cell_type": "code",
      "execution_count": null,
      "metadata": {
        "id": "dV6jruNOCQ-i"
      },
      "outputs": [],
      "source": [
        "for i in pre:\n",
        "  print(i.item())"
      ]
    },
    {
      "cell_type": "code",
      "execution_count": null,
      "metadata": {
        "id": "wm9JNwm8CkEJ"
      },
      "outputs": [],
      "source": [
        "names_pred = []\n",
        "for i in pre:\n",
        "  print(i.item())\n",
        "  n = names[i.item()]\n",
        "  print(n)\n",
        "  names_pred.append(n)\n",
        "\n"
      ]
    },
    {
      "cell_type": "code",
      "execution_count": null,
      "metadata": {
        "id": "ezMQIxD6DZdS"
      },
      "outputs": [],
      "source": [
        "file_path = 'pred_submit.csv'\n",
        "\n",
        "# Open the CSV file for writing\n",
        "with open(file_path, 'w', newline='') as csvfile:\n",
        "    # Create a writer object\n",
        "    writer = csv.writer(csvfile)\n",
        "\n",
        "    # Write the header row\n",
        "    writer.writerow(['Id', 'Category'])\n",
        "\n",
        "    # Write the data rows\n",
        "    for i, name in enumerate(names_pred, start=0):\n",
        "        writer.writerow([i, name])"
      ]
    },
    {
      "cell_type": "markdown",
      "metadata": {
        "id": "XNq1zrboKzqG"
      },
      "source": [
        "Bigger dataset"
      ]
    },
    {
      "cell_type": "code",
      "execution_count": null,
      "metadata": {
        "id": "wzzDpzJmK1O4"
      },
      "outputs": [],
      "source": [
        "! pip install -q kaggle"
      ]
    },
    {
      "cell_type": "code",
      "execution_count": null,
      "metadata": {
        "id": "1n8ot11EK6GC"
      },
      "outputs": [],
      "source": [
        "! mkdir ~/.kaggle\n",
        "! cp kaggle.json ~/.kaggle/"
      ]
    },
    {
      "cell_type": "code",
      "execution_count": null,
      "metadata": {
        "id": "NLcHqEi0K_cM"
      },
      "outputs": [],
      "source": [
        "! chmod 600 ~/.kaggle/kaggle.json"
      ]
    },
    {
      "cell_type": "code",
      "execution_count": null,
      "metadata": {
        "colab": {
          "base_uri": "https://localhost:8080/"
        },
        "id": "BAVVJaFuLAae",
        "outputId": "5586aa86-604f-4c39-988f-e392cf0a21a4"
      },
      "outputs": [
        {
          "name": "stdout",
          "output_type": "stream",
          "text": [
            "Downloading purdue-face-recognition-challenge-2023.zip to /content\n",
            "100% 562k/562k [00:00<00:00, 979kB/s]\n",
            "100% 562k/562k [00:00<00:00, 978kB/s]\n"
          ]
        }
      ],
      "source": [
        "! kaggle competitions download -c 'purdue-face-recognition-challenge-2023'"
      ]
    },
    {
      "cell_type": "code",
      "execution_count": null,
      "metadata": {
        "colab": {
          "base_uri": "https://localhost:8080/"
        },
        "id": "oazh6nW0Le8q",
        "outputId": "9edbd04e-1e11-49ef-f4e8-3012163229b3"
      },
      "outputs": [
        {
          "name": "stdout",
          "output_type": "stream",
          "text": [
            "Archive:  purdue-face-recognition-challenge-2023.zip\n",
            "  inflating: category.csv            \n",
            "  inflating: sample_submission.csv   \n",
            "  inflating: train.csv               \n",
            "  inflating: train_small.csv         \n"
          ]
        }
      ],
      "source": [
        "!unzip purdue-face-recognition-challenge-2023.zip"
      ]
    }
  ],
  "metadata": {
    "accelerator": "GPU",
    "colab": {
      "machine_shape": "hm",
      "provenance": [],
      "gpuClass": "premium"
    },
    "gpuClass": "premium",
    "kernelspec": {
      "display_name": "Python 3",
      "name": "python3"
    },
    "language_info": {
      "name": "python"
    }
  },
  "nbformat": 4,
  "nbformat_minor": 0
}